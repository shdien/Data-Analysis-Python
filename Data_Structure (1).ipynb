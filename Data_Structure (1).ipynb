{
  "nbformat": 4,
  "nbformat_minor": 0,
  "metadata": {
    "colab": {
      "provenance": []
    },
    "kernelspec": {
      "name": "python3",
      "display_name": "Python 3"
    },
    "language_info": {
      "name": "python"
    }
  },
  "cells": [
    {
      "cell_type": "markdown",
      "source": [
        "# 1. What are data structures, and why are they important\n",
        "Data structures are ways of organizing, managing, and storing data so that it can be accessed and modified efficiently.\n",
        "\n",
        "List → Ordered, mutable collection (e.g., [1, 2, 3]).\n",
        "\n",
        "Tuple → Ordered, immutable collection (e.g., (1, 2, 3)).\n",
        "\n",
        "Set → Unordered, unique collection (e.g., {1, 2, 3}).\n",
        "\n",
        "Dictionary → Key-value pairs (e.g., {\"name\": \"Alice\", \"age\": 25}).\n",
        "\n",
        "Data structure are vet important in python because they let you store and organize data in a way that’s easy to use. Choosing the right data structure can make your program much faster.Used in databases, machine learning, operating systems, web development, and more.\n",
        "\n",
        "# 2. Explain the difference between mutable and immutable data types with examples\n",
        "- Mutable:- Their values can be changed or modified after creation. Examples: list, set, dict\n",
        "\n",
        "- Immutable:- Their values cannot be changed once created. Examples: int, float, string (str), tuple\n",
        "\n",
        "# 3. What are the main differences between lists and tuples in Python\n",
        "- List:-\n",
        "\n",
        "Ordered, mutable collection. List's syntax is [ ]. List's methods are (append(), extend(), remove(), pop(), etc.).\n",
        "\n",
        "- Typles:-\n",
        "\n",
        "Ordered, immutable collection. Tuple' syntax is ( ). Tuple's methods are (count(), index())\n",
        "\n",
        "# 4. Describe how dictionaries store data\n",
        "Dictionaries store data as key-value pairs, where each key is unique and maps directly to a corresponding value. This structure allows for fast and efficient data retrieval using the key.\n",
        "\n",
        "student = {\"name\": \"Alice\", \"age\": 21, \"grade\": \"A\"}\n",
        "\n",
        "# 5. Why might you use a set instead of a list in Python\n",
        "- No Duplicate Values:-\n",
        "\n",
        "Sets automatically eliminate duplicates. If you add the same item multiple times, it only keeps one. This makes sets ideal for storing unique elements.\n",
        "\n",
        "- Faster Membership Testing:-\n",
        "\n",
        "Checking if an item exists in a set is typically faster than in a list because sets use hashing under the hood. This gives sets an average time complexity of O(1) for lookups, compared to O(n) for lists.\n",
        "\n",
        "- Efficient Set Operations Sets support powerful operations like:\n",
        "\n",
        "union() – combine elements from two sets\n",
        "\n",
        "intersection() – find common elements\n",
        "\n",
        "difference() – find elements in one set but not the other These are much more efficient.\n",
        "\n",
        "# 6. What is a string in Python, and how is it different from a list\n",
        "- A string is a sequence of characters enclosed in quotes (' ', \" \", or ''' ''').It represents textual data, such as \"hello\" or \"123\". Strings are immutable, meaning once created, their contents cannot be changed.\n",
        "\n",
        "- A list is an ordered collection of items, which can include any data type—strings, numbers, even other lists. Lists are mutable, so you can add, remove, or change elements after creation. Lists support indexing and slicing just like strings, but with more flexibility.\n",
        "\n",
        "# 7. How do tuples ensure data integrity in Python\n",
        "- Immutability:-\n",
        "\n",
        " Once a tuple is created, its contents cannot be changed—no additions, deletions, or modifications.\n",
        "\n",
        "- Predictability:-\n",
        "\n",
        "Because tuples are fixed, they behave consistently across the program, making them ideal for storing configuration values, fixed records.\n",
        "\n",
        "- Hashability:-\n",
        "\n",
        "Tuples can be used as keys in dictionaries or elements in sets, which require data that won’t change. This allows for secure and efficient data mapping.\n",
        "\n",
        "# 8. What is a hash table, and how does it relate to dictionaries in Python\n",
        "A hash table is a data structure that provides a very efficient way to store and retrieve data using a key-value pair system. Python dictionaries are implemented using hash tables, which is why operations like lookup, insertion, and deletion are very fast.\n",
        "\n",
        "A dictionary is a collection of key-value pairs. It uses a hash table to store these pairs. This allows for fast lookups, insertions, and deletions—typically in constant time, O(1).\n",
        "\n",
        "# 9. Can lists contain different data types in Python\n",
        "Lists in Python are heterogeneous, meaning they can store elements of different data types within the same list. This includes:\n",
        "\n",
        "Numbers (integers, floats)\n",
        "\n",
        "Strings\n",
        "\n",
        "Booleans\n",
        "\n",
        "Other lists, tuples, dictionaries\n",
        "\n",
        "Even custom objects\n",
        "\n",
        "# 10. Explain why strings are immutable in Python\n",
        "- Hashability for Dictionary Keys:-\n",
        "\n",
        "Immutable objects like strings can be used as keys in dictionaries because their hash value remains constant. This ensures reliable key-value mapping.\n",
        "\n",
        "- Memory Efficiency:-\n",
        "\n",
        "Python can reuse string objects internally, reducing memory usage. Since strings don’t change, the same object can be referenced multiple times safely.\n",
        "\n",
        "- Thread Safety:-\n",
        "\n",
        "In multi-threaded programs, immutable strings prevent data corruption from concurrent modifications.\n",
        "\n",
        "- Predictability and Debugging:-\n",
        "\n",
        "Knowing that a string won’t change unexpectedly makes code easier to reason about and debug.\n",
        "\n",
        "# 11.  What advantages do dictionaries offer over lists for certain tasks\n",
        "- Fast lookup by key:-\n",
        "\n",
        "Dictionaries use hash tables, so looking up a value by key is O(1) on average.\n",
        "Lists require O(n) time to search for an element, because you may have to check each item.\n",
        "\n",
        "- Associating Data with Keys:-\n",
        "\n",
        "Dictionaries allow you to store values with meaningful keys, instead of relying on positional indexes like in a list. This makes code more readable and maintainable.\n",
        "\n",
        "- Dynamic Addition and Removal:-\n",
        "\n",
        "Adding/removing items by key is easy and efficient. With lists, adding/removing by value can require searching or shifting elements.\n",
        "\n",
        "# 12.  Describe a scenario where using a tuple would be preferable over a list\n",
        "Scenario: Storing Configuration Settings\n",
        "Imagine you're building a web application and need to store the server. configuration:\n",
        "\n",
        "config = (\"localhost\", 8080, \"admin\")\n",
        "\n",
        "This data represents the host, port, and username.\n",
        "Since these settings should not change during runtime, using a tuple ensures they remain immutable and protected from accidental modification.\n",
        "\n",
        "# 13.  How do sets handle duplicate values in Python\n",
        "Sets only store unique elements. If you try to add a duplicate value to a set, Python simply ignores it—no error, no duplication.\n",
        "\n",
        "Example:\n",
        "\n",
        "colors = {\"red\", \"blue\", \"green\", \"blue\"}\n",
        "\n",
        "print(colors)  # Output: {'red', 'blue', 'green'}\n",
        "\n",
        "Even though \"blue\" was listed twice, the set only keeps one instance.\n",
        "\n",
        "# 14.  How does the “in” keyword work differently for lists and dictionaries\n",
        "The in keyword in Python is used to check for membership, but it behaves differently for lists and dictionaries because of how they store data. Let’s break it down:\n",
        "\n",
        "For Lists:-\n",
        "\n",
        "Lists are ordered sequences of elements. Using in on a list checks if a value exists in the list. Python searches each element one by one (linear search), so the average time complexity is O(n).\n",
        "\n",
        "my_list = [10, 20, 30, 40]\n",
        "\n",
        "print(20 in my_list)  # True\n",
        "\n",
        "print(50 in my_list)  # False\n",
        "\n",
        "For Dictionaries:-\n",
        "\n",
        "Dictionaries store key-value pairs. Using in on a dictionary checks only for keys, not values. Because dictionaries use hash tables, this lookup is very fast (O(1) on average).\n",
        "\n",
        "my_dict = {\"apple\": 10, \"banana\": 20, \"cherry\": 30}\n",
        "\n",
        "print(\"banana\" in my_dict)  # True (key exists)\n",
        "\n",
        "print(20 in my_dict)        # False (20 is a value, not a key)\n",
        "\n",
        "# 15.  Can you modify the elements of a tuple? Explain why or why not\n",
        "you cannot modify the elements of a tuple in Python. This is because tuples are immutable, meaning their contents are fixed once the tuple is created.\n",
        "\n",
        "Why tuples are immutable\n",
        "\n",
        "- Design choice:-\n",
        "\n",
        "Tuples are meant to represent fixed collections of items that shouldn’t change, like coordinates, database records, or configuration values.\n",
        "\n",
        "- Hashability:-\n",
        "\n",
        "Because tuples are immutable, they can be used as keys in dictionaries (if all elements are themselves immutable). Lists, being mutable, cannot be used as dictionary keys.\n",
        "\n",
        "my_tuple = (10, 20, 30)\n",
        "\n",
        "my_tuple[1] = 50  -> TypeError: 'tuple' object does not support item assignment\n",
        "\n",
        "Any attempt to change, add, or remove elements directly will raise a TypeError.\n",
        "\n",
        "# 16.  What is a nested dictionary, and give an example of its use case\n",
        "A regular dictionary stores key-value pairs: {key: value}. A nested dictionary stores key-value pairs where the value is itself a dictionary: {key: {subkey: subvalue}}.\n",
        "\n",
        "- Suppose you want to store information about students and their scores in different subjects:\n",
        "\n",
        "students = {\n",
        "    \"Alice\": {\"Math\": 90, \"Science\": 85, \"English\": 88},\n",
        "    \"Bob\": {\"Math\": 75, \"Science\": 80, \"English\": 78},\n",
        "    \"Charlie\": {\"Math\": 92, \"Science\": 88, \"English\": 95}\n",
        "}\n",
        "\n",
        "\n",
        "\"Alice\", \"Bob\", \"Charlie\" are keys of the outer dictionary.\n",
        "\n",
        "Each value is another dictionary representing subject scores.\n",
        "\n",
        "- Use:\n",
        "\n",
        "Storing structured data like JSON from APIs.\n",
        "\n",
        "Database-like records where each entry has multiple attributes.\n",
        "\n",
        "Configuration settings with multiple layers, e.g., {environment: {setting_name: value}}.\n",
        "\n",
        "Tracking hierarchical information, like companies → departments → employees.\n",
        "\n",
        "# 17.  Describe the time complexity of accessing elements in a dictionary\n",
        "- Case:-\n",
        "\n",
        "Looking up a value by its key is O(1) on average. This means that no matter how many items are in the dictionary, accessing a value usually takes constant time.\n",
        "\n",
        "my_dict = {\"apple\": 10, \"banana\": 20, \"cherry\": 30}\n",
        "\n",
        "print(my_dict[\"banana\"])  # O(1) average time\n",
        "\n",
        "\n",
        "- It;s fast because of:-\n",
        "\n",
        "Python computes a hash of the key.\n",
        "\n",
        "The hash determines the index in the underlying array.\n",
        "\n",
        "The value is retrieved directly from that index.\n",
        "\n",
        "# 18.  In what situations are lists preferred over dictionaries\n",
        "- When Order Matters\n",
        "\n",
        "Lists maintain the order of elements. Dictionaries (Python 3.7+) also preserve insertion order, but lists are simpler if you primarily care about sequence order.\n",
        "\n",
        "fruits = [\"apple\", \"banana\", \"cherry\"]\n",
        "\n",
        "print(fruits[0])  # Access first element\n",
        "\n",
        "- When You Need Index-Based Access\n",
        "\n",
        "Lists allow you to access elements by position/index, which is not possible with dictionaries (unless you convert keys to a list).\n",
        "\n",
        "numbers = [10, 20, 30, 40]\n",
        "\n",
        "print(numbers[2])  # 30\n",
        "\n",
        "- When You Have Duplicate Values\n",
        "\n",
        "Lists allow duplicate elements, while dictionary keys must be unique.\n",
        "\n",
        "my_list = [1, 2, 2, 3, 4]\n",
        "\n",
        "This is useful when duplicates are meaningful, e.g., a list of scores, votes, or items in a queue.\n",
        "\n",
        "# 19.  Why are dictionaries considered unordered, and how does that affect data retrieval\n",
        "In Python, dictionaries did not preserve insertion order.\n",
        "The internal structure—a hash table focused on efficient access, not order.\n",
        "As a result, when you iterated over a dictionary, the order of items could appear random or inconsistent.\n",
        "\n",
        "- No Index-Based Access:\n",
        "\n",
        "Unlike lists, you couldn’t retrieve items by position (e.g., dict[0] was invalid).\n",
        "\n",
        "- Unpredictable Iteration:\n",
        "\n",
        "Looping through a dictionary didn’t guarantee the same order each time, which could be problematic for tasks like serialization or display.\n",
        "\n",
        "- Order-Insensitive Logic:\n",
        "\n",
        "Developers had to rely solely on keys for access, not on any assumed sequence.\n",
        "\n",
        "# 20.  Explain the difference between a list and a dictionary in terms of data retrieval.\n",
        "- List:-\n",
        "\n",
        "Access method: By index (position in the list).\n",
        "\n",
        "Time complexity: O(1) to access by index, O(n) to search by value.\n",
        "\n",
        "my_list = [10, 20, 30, 40]\n",
        "\n",
        "print(my_list[2])       # Access by index → 30\n",
        "\n",
        "print(30 in my_list)    # Search by value → O(n)\n",
        "\n",
        "- Dictionary:-\n",
        "\n",
        "Access method: By key.\n",
        "\n",
        "Time complexity: O(1) average for lookup by key.\n",
        "\n",
        "my_dict = {\"apple\": 10, \"banana\": 20, \"cherry\": 30}\n",
        "\n",
        "print(my_dict[\"banana\"])  # Access by key → 20\n",
        "\n",
        "print(\"banana\" in my_dict) # Check if key exists → O(1)\n",
        "\n",
        "\n",
        "\n"
      ],
      "metadata": {
        "id": "NtoviyRSbf4B"
      }
    },
    {
      "cell_type": "code",
      "source": [
        "# 1. Write a code to create a string with your name and print it\n",
        "name = \"Debjit Nandi\"\n",
        "print(name)"
      ],
      "metadata": {
        "colab": {
          "base_uri": "https://localhost:8080/"
        },
        "id": "HH-Zzy2joFfl",
        "outputId": "f12d356d-cbc1-416e-9279-b52a3b8ddfd5"
      },
      "execution_count": 4,
      "outputs": [
        {
          "output_type": "stream",
          "name": "stdout",
          "text": [
            "Debjit Nandi\n"
          ]
        }
      ]
    },
    {
      "cell_type": "code",
      "source": [
        "# 2.  Write a code to find the length of the string \"Hello World\"\n",
        "text = \"Hello World\"\n",
        "print(len(text))"
      ],
      "metadata": {
        "colab": {
          "base_uri": "https://localhost:8080/"
        },
        "id": "hDHWHtLjoyMK",
        "outputId": "7a706229-29b2-41fb-e513-094f0c173dbf"
      },
      "execution_count": 5,
      "outputs": [
        {
          "output_type": "stream",
          "name": "stdout",
          "text": [
            "11\n"
          ]
        }
      ]
    },
    {
      "cell_type": "code",
      "source": [
        "# 3.  Write a code to slice the first 3 characters from the string \"Python Programming\"\n",
        "text = \"Python Programming\"\n",
        "(text[0:3])"
      ],
      "metadata": {
        "colab": {
          "base_uri": "https://localhost:8080/",
          "height": 36
        },
        "id": "HylutDY2pP7P",
        "outputId": "d13bb065-b808-4e09-8a5e-fd7eb4572b90"
      },
      "execution_count": 7,
      "outputs": [
        {
          "output_type": "execute_result",
          "data": {
            "text/plain": [
              "'Pyt'"
            ],
            "application/vnd.google.colaboratory.intrinsic+json": {
              "type": "string"
            }
          },
          "metadata": {},
          "execution_count": 7
        }
      ]
    },
    {
      "cell_type": "code",
      "source": [
        "# 4.  Write a code to convert the string \"hello\" to uppercase\n",
        "text2 = \"hello\"\n",
        "text2.upper()"
      ],
      "metadata": {
        "colab": {
          "base_uri": "https://localhost:8080/",
          "height": 36
        },
        "id": "O-dziDKZp2Rl",
        "outputId": "1381d21c-1e4a-42a2-e55a-071a3786ea32"
      },
      "execution_count": 8,
      "outputs": [
        {
          "output_type": "execute_result",
          "data": {
            "text/plain": [
              "'HELLO'"
            ],
            "application/vnd.google.colaboratory.intrinsic+json": {
              "type": "string"
            }
          },
          "metadata": {},
          "execution_count": 8
        }
      ]
    },
    {
      "cell_type": "code",
      "source": [
        "# 5.  Write a code to replace the word \"apple\" with \"orange\" in the string \"I like apple\"\n",
        "text3 = \"i like apple\"\n",
        "print(text3.replace(\"apple\", \"orange\"))"
      ],
      "metadata": {
        "colab": {
          "base_uri": "https://localhost:8080/"
        },
        "id": "ol1a3M2BqJby",
        "outputId": "0e840adc-9056-46d8-cff6-a3f01cda3b63"
      },
      "execution_count": 9,
      "outputs": [
        {
          "output_type": "stream",
          "name": "stdout",
          "text": [
            "i like orange\n"
          ]
        }
      ]
    },
    {
      "cell_type": "code",
      "source": [
        "# 6.  Write a code to create a list with numbers 1 to 5 and print it\n",
        "number = [1,2,3,4,5]\n",
        "print(number)"
      ],
      "metadata": {
        "colab": {
          "base_uri": "https://localhost:8080/"
        },
        "id": "KhHDj8hqqiAa",
        "outputId": "b0ae7600-f6d1-48b7-d300-cb3315810cea"
      },
      "execution_count": 10,
      "outputs": [
        {
          "output_type": "stream",
          "name": "stdout",
          "text": [
            "[1, 2, 3, 4, 5]\n"
          ]
        }
      ]
    },
    {
      "cell_type": "code",
      "source": [
        "# 7.  Write a code to append the number 10 to the list [1, 2, 3, 4]\n",
        "numbers = [1,2,3,4]\n",
        "numbers.append(10)\n",
        "print(numbers)"
      ],
      "metadata": {
        "colab": {
          "base_uri": "https://localhost:8080/"
        },
        "id": "005rWCVWrb5Y",
        "outputId": "152f0cef-7b68-467a-c49b-e7e11f142e9e"
      },
      "execution_count": 11,
      "outputs": [
        {
          "output_type": "stream",
          "name": "stdout",
          "text": [
            "[1, 2, 3, 4, 10]\n"
          ]
        }
      ]
    },
    {
      "cell_type": "code",
      "source": [
        "# 8.  Write a code to remove the number 3 from the list [1, 2, 3, 4, 5]\n",
        "numbers = [1,2,3,4,5]\n",
        "numbers.remove(3)\n",
        "print(numbers)"
      ],
      "metadata": {
        "colab": {
          "base_uri": "https://localhost:8080/"
        },
        "id": "O4j4Hrnyrm83",
        "outputId": "6fa50a86-da42-46c4-a614-624b9311d837"
      },
      "execution_count": 12,
      "outputs": [
        {
          "output_type": "stream",
          "name": "stdout",
          "text": [
            "[1, 2, 4, 5]\n"
          ]
        }
      ]
    },
    {
      "cell_type": "code",
      "source": [
        "# 9.  Write a code to access the second element in the list ['a', 'b', 'c', 'd']\n",
        "letters = ['a', 'b', 'c', 'd']\n",
        "print(letters[1])"
      ],
      "metadata": {
        "colab": {
          "base_uri": "https://localhost:8080/"
        },
        "id": "aQFOD0vQr26w",
        "outputId": "46f6b80c-3164-4bef-9ac9-be55fe52998a"
      },
      "execution_count": 13,
      "outputs": [
        {
          "output_type": "stream",
          "name": "stdout",
          "text": [
            "b\n"
          ]
        }
      ]
    },
    {
      "cell_type": "code",
      "source": [
        "# 10.  Write a code to reverse the list [10, 20, 30, 40, 50].\n",
        "numbers1 = [10,20,30,40,50]\n",
        "print(numbers1[::-1])"
      ],
      "metadata": {
        "colab": {
          "base_uri": "https://localhost:8080/"
        },
        "id": "4faRzTWZsOeU",
        "outputId": "ccb75831-0d0d-4b16-d0a7-30ee8037850a"
      },
      "execution_count": 15,
      "outputs": [
        {
          "output_type": "stream",
          "name": "stdout",
          "text": [
            "[50, 40, 30, 20, 10]\n"
          ]
        }
      ]
    },
    {
      "cell_type": "code",
      "source": [
        "# 11. Write a code to create a tuple with the elements 100, 200, 300 and print it.\n",
        "tuple = (100,200,300)\n",
        "print(tuple)"
      ],
      "metadata": {
        "colab": {
          "base_uri": "https://localhost:8080/"
        },
        "id": "R40w_8nSsrAs",
        "outputId": "f63693a7-808a-4b91-def1-75f1d0b26afa"
      },
      "execution_count": 16,
      "outputs": [
        {
          "output_type": "stream",
          "name": "stdout",
          "text": [
            "(100, 200, 300)\n"
          ]
        }
      ]
    },
    {
      "cell_type": "code",
      "source": [
        "# 12.  Write a code to access the second-to-last element of the tuple ('red', 'green', 'blue', 'yellow').\n",
        "colours = ('red', 'green', 'blue', 'yellow')\n",
        "print(colours[-2])"
      ],
      "metadata": {
        "colab": {
          "base_uri": "https://localhost:8080/"
        },
        "id": "-DisLCcGtAvM",
        "outputId": "cb723d04-a717-4a21-ae5e-b6a0df7d0a78"
      },
      "execution_count": 17,
      "outputs": [
        {
          "output_type": "stream",
          "name": "stdout",
          "text": [
            "blue\n"
          ]
        }
      ]
    },
    {
      "cell_type": "code",
      "source": [
        "#  13. Write a code to find the minimum number in the tuple (10, 20, 5, 15).\n",
        "numbers2 = (10,20,5,15)\n",
        "print(min(numbers2))"
      ],
      "metadata": {
        "colab": {
          "base_uri": "https://localhost:8080/"
        },
        "id": "N0ZLU9g5tXAw",
        "outputId": "ba064b88-e27d-4168-dee3-c5a57e2c096a"
      },
      "execution_count": 18,
      "outputs": [
        {
          "output_type": "stream",
          "name": "stdout",
          "text": [
            "5\n"
          ]
        }
      ]
    },
    {
      "cell_type": "code",
      "source": [
        "#  14. Write a code to find the index of the element \"cat\" in the tuple ('dog', 'cat', 'rabbit').\n",
        "animals = ('dog', 'cat', 'rabbit')\n",
        "print(animals.index('cat'))"
      ],
      "metadata": {
        "colab": {
          "base_uri": "https://localhost:8080/"
        },
        "id": "4zCBJsfNtoFM",
        "outputId": "a41cd3d9-90f0-4ef6-cc79-f83fc36139a1"
      },
      "execution_count": 19,
      "outputs": [
        {
          "output_type": "stream",
          "name": "stdout",
          "text": [
            "1\n"
          ]
        }
      ]
    },
    {
      "cell_type": "code",
      "source": [
        "#  15. Write a code to create a tuple containing three different fruits and check if \"kiwi\" is in it.\n",
        "fruits = ('apple', 'banana', 'mango')\n",
        "if 'kiwi' in fruits:\n",
        "    print(\"Kiwi is in the tuple\")\n",
        "else:\n",
        "    print(\"Kiwi is not in the tuple\")"
      ],
      "metadata": {
        "colab": {
          "base_uri": "https://localhost:8080/"
        },
        "id": "Xrnxwk6vt9_C",
        "outputId": "7bb203fb-a1e9-4408-cbcc-66477a18926e"
      },
      "execution_count": 20,
      "outputs": [
        {
          "output_type": "stream",
          "name": "stdout",
          "text": [
            "Kiwi is not in the tuple\n"
          ]
        }
      ]
    },
    {
      "cell_type": "code",
      "source": [
        "#  16. Write a code to create a set with the elements 'a', 'b', 'c' and print it.\n",
        "letters_set = {'a', 'b', 'c'}\n",
        "print(letters_set)"
      ],
      "metadata": {
        "colab": {
          "base_uri": "https://localhost:8080/"
        },
        "id": "yMI3AM8LuSF9",
        "outputId": "85aeadfc-65d3-4e80-d1f6-303f40474eb1"
      },
      "execution_count": 21,
      "outputs": [
        {
          "output_type": "stream",
          "name": "stdout",
          "text": [
            "{'c', 'a', 'b'}\n"
          ]
        }
      ]
    },
    {
      "cell_type": "code",
      "source": [
        "#  17. Write a code to clear all elements from the set {1, 2, 3, 4, 5}.\n",
        "numbers4 = {1,2,3,4,5}\n",
        "numbers4.clear()\n",
        "print(numbers4)"
      ],
      "metadata": {
        "colab": {
          "base_uri": "https://localhost:8080/"
        },
        "id": "hsmwibwIulc6",
        "outputId": "b48dedfe-f405-47ee-fb60-e4c0f91e6339"
      },
      "execution_count": 22,
      "outputs": [
        {
          "output_type": "stream",
          "name": "stdout",
          "text": [
            "set()\n"
          ]
        }
      ]
    },
    {
      "cell_type": "code",
      "source": [
        "#  18. Write a code to remove the element 4 from the set {1, 2, 3, 4}.\n",
        "numbers5 = {1, 2, 3, 4}\n",
        "numbers5.remove(4)\n",
        "print(numbers5)\n"
      ],
      "metadata": {
        "colab": {
          "base_uri": "https://localhost:8080/"
        },
        "id": "JsOJb8PXu4PH",
        "outputId": "f7b7c297-c621-437d-bb92-3049bcc9c321"
      },
      "execution_count": 23,
      "outputs": [
        {
          "output_type": "stream",
          "name": "stdout",
          "text": [
            "{1, 2, 3}\n"
          ]
        }
      ]
    },
    {
      "cell_type": "code",
      "source": [
        "#  19. Write a code to find the union of two sets {1, 2, 3} and {3, 4, 5}.\n",
        "set1 = {1, 2, 3}\n",
        "set2 = {3, 4, 5}\n",
        "union_set = set1.union(set2)\n",
        "print(union_set)"
      ],
      "metadata": {
        "colab": {
          "base_uri": "https://localhost:8080/"
        },
        "id": "Eu8FUOBnvKV9",
        "outputId": "1cf82443-eb8e-483c-d078-e60a03faa3fe"
      },
      "execution_count": 24,
      "outputs": [
        {
          "output_type": "stream",
          "name": "stdout",
          "text": [
            "{1, 2, 3, 4, 5}\n"
          ]
        }
      ]
    },
    {
      "cell_type": "code",
      "source": [
        "#  20. Write a code to find the intersection of two sets {1, 2, 3} and {2, 3, 4}.\n",
        "set1 = {1, 2, 3}\n",
        "set2 = {2, 3, 4}\n",
        "intersection_set = set1.intersection(set2)\n",
        "print(intersection_set)"
      ],
      "metadata": {
        "colab": {
          "base_uri": "https://localhost:8080/"
        },
        "id": "gbSBk5MjvaWp",
        "outputId": "5e0208ab-045e-484c-af54-16edab09e692"
      },
      "execution_count": 25,
      "outputs": [
        {
          "output_type": "stream",
          "name": "stdout",
          "text": [
            "{2, 3}\n"
          ]
        }
      ]
    },
    {
      "cell_type": "code",
      "source": [
        "#  21. Write a code to create a dictionary with the keys \"name\", \"age\", and \"city\", and print it.\n",
        "person = {\"name\": \"Debjit\", \"age\": 24, \"city\": \"Kolkata\"}\n",
        "print(person)"
      ],
      "metadata": {
        "colab": {
          "base_uri": "https://localhost:8080/"
        },
        "id": "HN_q0LOJvtoz",
        "outputId": "5f67d29b-e428-4519-9d5e-7c47ce7d45ea"
      },
      "execution_count": 27,
      "outputs": [
        {
          "output_type": "stream",
          "name": "stdout",
          "text": [
            "{'name': 'Debjit', 'age': 24, 'city': 'Kolkata'}\n"
          ]
        }
      ]
    },
    {
      "cell_type": "code",
      "source": [
        "#  22. Write a code to add a new key-value pair \"country\": \"USA\" to the dictionary {'name': 'John', 'age': 25}.\n",
        "person = {'name': 'John', 'age': 25}\n",
        "person['country'] = 'USA'\n",
        "print(person)"
      ],
      "metadata": {
        "colab": {
          "base_uri": "https://localhost:8080/"
        },
        "id": "ie8TzfrVv-ZD",
        "outputId": "89c63338-9726-4134-86c1-0906eb3f9dbe"
      },
      "execution_count": 28,
      "outputs": [
        {
          "output_type": "stream",
          "name": "stdout",
          "text": [
            "{'name': 'John', 'age': 25, 'country': 'USA'}\n"
          ]
        }
      ]
    },
    {
      "cell_type": "code",
      "source": [
        "#  23. Write a code to access the value associated with the key \"name\" in the dictionary {'name': 'Alice', 'age': 30}.\n",
        "person = {'name': 'Alice', 'age': 30}\n",
        "name_value = person['name']\n",
        "print(name_value)\n",
        "name_value_get = person.get('name')\n",
        "print(name_value_get)"
      ],
      "metadata": {
        "colab": {
          "base_uri": "https://localhost:8080/"
        },
        "id": "rCx05YIpwRNW",
        "outputId": "7fbb83eb-c0d3-4ea3-bb9d-755b283d4502"
      },
      "execution_count": 29,
      "outputs": [
        {
          "output_type": "stream",
          "name": "stdout",
          "text": [
            "Alice\n",
            "Alice\n"
          ]
        }
      ]
    },
    {
      "cell_type": "code",
      "source": [
        "#  24. Write a code to remove the key \"age\" from the dictionary {'name': 'Bob', 'age': 22, 'city': 'New York'}.\n",
        "person = {'name': 'Bob', 'age': 22, 'city': 'New York'}\n",
        "person.pop('age')\n",
        "print(person)"
      ],
      "metadata": {
        "colab": {
          "base_uri": "https://localhost:8080/"
        },
        "id": "oXVvw6nRwoRR",
        "outputId": "e0f5dac0-c1da-4ca9-9ed5-1578b1a32311"
      },
      "execution_count": 30,
      "outputs": [
        {
          "output_type": "stream",
          "name": "stdout",
          "text": [
            "{'name': 'Bob', 'city': 'New York'}\n"
          ]
        }
      ]
    },
    {
      "cell_type": "code",
      "source": [
        "#  25. Write a code to check if the key \"city\" exists in the dictionary {'name': 'Alice', 'city': 'Paris'}.\n",
        "person = {'name': 'Alice', 'city': 'Paris'}\n",
        "if 'city' in person:\n",
        "    print(\"Key 'city' exists in the dictionary\")\n",
        "else:\n",
        "    print(\"Key 'city' does not exist in the dictionary\")"
      ],
      "metadata": {
        "colab": {
          "base_uri": "https://localhost:8080/"
        },
        "id": "nDOAP7gjw6yJ",
        "outputId": "1078b4d4-f201-4750-b956-4e06982d32af"
      },
      "execution_count": 31,
      "outputs": [
        {
          "output_type": "stream",
          "name": "stdout",
          "text": [
            "Key 'city' exists in the dictionary\n"
          ]
        }
      ]
    },
    {
      "cell_type": "code",
      "source": [
        "#  26. Write a code to create a list, a tuple, and a dictionary, and print them all.\n",
        "my_list = [1, 2, 3]\n",
        "my_tuple = ('a', 'b', 'c')\n",
        "my_dict = {'name': 'Alice', 'age': 25}\n",
        "\n",
        "print(\"List:\", my_list)\n",
        "print(\"Tuple:\", my_tuple)\n",
        "print(\"Dictionary:\", my_dict)"
      ],
      "metadata": {
        "colab": {
          "base_uri": "https://localhost:8080/"
        },
        "id": "mYiHNxS2xI0N",
        "outputId": "0d9018ba-7fb6-4726-e5ff-b1ee2b75f38b"
      },
      "execution_count": 32,
      "outputs": [
        {
          "output_type": "stream",
          "name": "stdout",
          "text": [
            "List: [1, 2, 3]\n",
            "Tuple: ('a', 'b', 'c')\n",
            "Dictionary: {'name': 'Alice', 'age': 25}\n"
          ]
        }
      ]
    },
    {
      "cell_type": "code",
      "source": [
        "#  27. Write a code to create a list of 5 random numbers between 1 and 100, sort it in ascending order, and print the  result.(replaced)\n",
        "import random\n",
        "random_numbers = [random.randint(1, 100) for _ in range(5)]\n",
        "random_numbers.sort()\n",
        "print(random_numbers)"
      ],
      "metadata": {
        "colab": {
          "base_uri": "https://localhost:8080/"
        },
        "id": "-wSxTye0y0fy",
        "outputId": "2b9ae883-d809-497c-900c-77058eda78e6"
      },
      "execution_count": 33,
      "outputs": [
        {
          "output_type": "stream",
          "name": "stdout",
          "text": [
            "[6, 26, 35, 84, 89]\n"
          ]
        }
      ]
    },
    {
      "cell_type": "code",
      "source": [
        "# 28. Write a code to create a list with strings and print the element at the third index.\n",
        "fruits = ['apple', 'banana', 'cherry', 'date', 'elderberry']\n",
        "print(fruits[3])"
      ],
      "metadata": {
        "colab": {
          "base_uri": "https://localhost:8080/"
        },
        "id": "ZSWZo0oMzboU",
        "outputId": "0e36b69b-a00d-43b9-f789-04ce90987d20"
      },
      "execution_count": 34,
      "outputs": [
        {
          "output_type": "stream",
          "name": "stdout",
          "text": [
            "date\n"
          ]
        }
      ]
    },
    {
      "cell_type": "code",
      "source": [
        "#  29. Write a code to combine two dictionaries into one and print the result.\n",
        "dict1 = {'a': 1, 'b': 2}\n",
        "dict2 = {'c': 3, 'd': 4}\n",
        "dict1.update(dict2)\n",
        "print(dict1)"
      ],
      "metadata": {
        "colab": {
          "base_uri": "https://localhost:8080/"
        },
        "id": "zDl1au4Ozv_Y",
        "outputId": "74a36736-bb34-4c49-ca2c-8d10e89cd98f"
      },
      "execution_count": 35,
      "outputs": [
        {
          "output_type": "stream",
          "name": "stdout",
          "text": [
            "{'a': 1, 'b': 2, 'c': 3, 'd': 4}\n"
          ]
        }
      ]
    },
    {
      "cell_type": "code",
      "source": [
        "#  30. Write a code to convert a list of strings into a set.\n",
        "string_list = ['apple', 'banana', 'cherry', 'banana', 'date']\n",
        "string_set = set(string_list)\n",
        "print(string_set)"
      ],
      "metadata": {
        "colab": {
          "base_uri": "https://localhost:8080/"
        },
        "id": "M1aqbK9A0Br5",
        "outputId": "a6fe8b78-b4ee-46e2-8f8d-ef0b8dd10351"
      },
      "execution_count": 37,
      "outputs": [
        {
          "output_type": "stream",
          "name": "stdout",
          "text": [
            "{'date', 'cherry', 'banana', 'apple'}\n"
          ]
        }
      ]
    }
  ]
}
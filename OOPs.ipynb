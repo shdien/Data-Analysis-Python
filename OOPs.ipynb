{
  "nbformat": 4,
  "nbformat_minor": 0,
  "metadata": {
    "colab": {
      "provenance": []
    },
    "kernelspec": {
      "name": "python3",
      "display_name": "Python 3"
    },
    "language_info": {
      "name": "python"
    }
  },
  "cells": [
    {
      "cell_type": "markdown",
      "source": [
        "# 1.  What is Object-Oriented Programming (OOP)\n",
        "Object-Oriented Programming (OOP) is a programming paradigm that organizes software design around objects rather than functions or logic.\n",
        "These objects represent real-world entities and contain both data (attributes) and behavior (methods)."
      ],
      "metadata": {
        "id": "wOvb9PYjvfZB"
      }
    },
    {
      "cell_type": "markdown",
      "source": [
        "# 2. What is a class in OOP\n",
        "In Object-Oriented Programming (OOP), a class is a blueprint or template for creating objects. It defines the structure (attributes/data) and behavior (methods/functions) that the objects created from it will have.\n",
        "\n",
        "A class is like a plan or design, and an object is a real-world instance built from that plan.\n",
        "\n",
        "For example:\n",
        "\n",
        "A class could be Car\n",
        "\n",
        "An object could be my_car = Car(\"Tesla\", \"Red\")"
      ],
      "metadata": {
        "id": "wYINiDN4wYcX"
      }
    },
    {
      "cell_type": "markdown",
      "source": [
        "# 3. What is an object in OOP\n",
        "In Object-Oriented Programming (OOP), an object is an instance of a class. It’s a real-world entity created using a class blueprint — containing its own data (attributes) and behavior (methods)."
      ],
      "metadata": {
        "id": "5UgI7whEwxn6"
      }
    },
    {
      "cell_type": "markdown",
      "source": [
        "# 4. What is the difference between abstraction and encapsulation\n",
        "- Abstraction:\n",
        "\n",
        "Abstraction means showing only the essential features of an object and hiding the complex details. It focuses on what an object does rather than how it does it. Simplify complex systems by exposing only the necessary parts\n",
        "\n",
        "- Encapsulation:\n",
        "\n",
        "Encapsulation means wrapping data (variables) and methods (functions) into a single unit (a class) and restricting direct access to some of the object’s data. It protects the object’s internal state from unintended modification Protect data and control how it’s accessed or modified."
      ],
      "metadata": {
        "id": "Q38Os4RlxBSj"
      }
    },
    {
      "cell_type": "markdown",
      "source": [
        "# 5. What are dunder methods in Python\n",
        "Dunder methods are special methods that allow you to define how objects of your class should behave with built-in Python operations — like printing, adding, comparing, etc. They let you customize the behavior of your objects in a Pythonic way."
      ],
      "metadata": {
        "id": "U8FLdWkHxmHf"
      }
    },
    {
      "cell_type": "markdown",
      "source": [
        "# 6.  Explain the concept of inheritance in OOP\n",
        "OOP concept where a class (child/subclass) can inherit attributes and methods from another class (parent/superclass). It allows code reuse and establishes a “is-a” relationship between classes.\n",
        "\n",
        "\n",
        "Parent (Superclass): The class whose properties and methods are inherited.\n",
        "\n",
        "Child (Subclass): The class that inherits from the parent. It can:\n",
        "\n",
        "Use the parent’s attributes/methods\n",
        "\n",
        "Override parent methods\n",
        "\n",
        "Add its own attributes/methods\n",
        "\n",
        "\n",
        "- Types of Inheritance in Python:-\n",
        "\n",
        "Single Inheritance: One child inherits from one parent\n",
        "\n",
        "Multiple Inheritance: One child inherits from multiple parents\n",
        "\n",
        "Multilevel Inheritance: A chain of inheritance (grandparent → parent → child)\n",
        "\n",
        "Hierarchical Inheritance: Multiple children inherit from one parent"
      ],
      "metadata": {
        "id": "Oed2qLV2x2Mu"
      }
    },
    {
      "cell_type": "markdown",
      "source": [
        "# 7. What is polymorphism in OOP\n",
        "In OOP, it allows objects of different classes to be treated as objects of a common superclass, or allows a method to behave differently depending on the object calling it.\n",
        "\n",
        "- Types of Polymorphism\n",
        "\n",
        "Compile-time (or Static) Polymorphism\n",
        "\n",
        "Achieved through method overloading or operator overloading.\n",
        "\n",
        "Python doesn’t support true method overloading, but operator overloading is possible.\n",
        "\n",
        "Run-time (or Dynamic) Polymorphism\n",
        "\n",
        "Achieved through method overriding.\n",
        "\n",
        "A child class can provide its own implementation of a method from the parent class."
      ],
      "metadata": {
        "id": "irxydt_VyYWt"
      }
    },
    {
      "cell_type": "markdown",
      "source": [
        "# 8. How is encapsulation achieved in Python\n",
        "- Name Mangling (Strong Hint):\n",
        "\n",
        "Python uses name mangling for attributes intended to be \"private.\"\n",
        "An attribute name is prefixed with two leading underscores (e.g., __data).\n",
        "\n",
        "The Python interpreter automatically renames these attributes within the class to include the class name (e.g., _ClassName__data).\n",
        "\n",
        "This makes it harder, but not impossible, to access them directly from outside the class, thereby discouraging external modification.\n",
        "\n",
        "- Single Leading Underscore (Convention):\n",
        "\n",
        "An attribute name prefixed with a single leading underscore (e.g., _data) is a weak \"internal use\" indicator (a convention).\n",
        "\n",
        "It serves as a non-binding suggestion to other developers that the attribute is intended for internal use within the class or module and should not be directly modified from outside. The Python interpreter takes no special action (no name mangling).\n",
        "\n",
        "- Properties and Getters/Setters:\n",
        "\n",
        "The most robust way to manage attribute access and enforce encapsulation logic is by using properties (the @property decorator).\n",
        "Properties allow you to define getter, setter, and deleter methods for an attribute, giving you explicit control over how the data is read and written, even if the underlying attribute is \"private\" (mangled)."
      ],
      "metadata": {
        "id": "LtB318JbywDd"
      }
    },
    {
      "cell_type": "markdown",
      "source": [
        "# 9. What is a constructor in Python\n",
        "In Python, a constructor is a special method used to initialize a newly created object.\n",
        "\n",
        "It is defined using the __init__() method.\n",
        "\n",
        "Automatically called when an object is created.\n",
        "\n",
        "Typically used to assign initial values to object attributes."
      ],
      "metadata": {
        "id": "FqzW8lO71eEv"
      }
    },
    {
      "cell_type": "markdown",
      "source": [
        "# 10. What are class and static methods in Python\n",
        "- Class Method:\n",
        "\n",
        "Defined using the @classmethod decorator. Takes cls as the first parameter (refers to the class itself, not the instance). Can access or modify class-level attributes, not instance attributes.\n",
        "\n",
        "- Static Method:\n",
        "\n",
        "Defined using the @staticmethod decorator. Does not take self or cls as a parameter. Cannot access class or instance attributes directly. Used for utility functions related to the class."
      ],
      "metadata": {
        "id": "GrKSQLip1ugL"
      }
    },
    {
      "cell_type": "markdown",
      "source": [
        "# 11. What is method overloading in Python\n",
        "In Python, method overloading refers to defining multiple methods with the same name but different parameters in a class.\n",
        "\n",
        "If you define multiple methods with the same name, the last definition overrides the previous ones. You can achieve similar behavior using default arguments or *args / **kwargs."
      ],
      "metadata": {
        "id": "ZOJetSVM2LOn"
      }
    },
    {
      "cell_type": "markdown",
      "source": [
        "# 12. What is method overriding in OOP\n",
        "In OOP, method overriding occurs when a child (subclass) provides its own implementation of a method that is already defined in its parent (superclass).\n",
        "\n",
        "The child’s method replaces the parent’s method for instances of the child. Used to modify or extend behavior in the subclass.\n"
      ],
      "metadata": {
        "id": "385lrrd32f1H"
      }
    },
    {
      "cell_type": "markdown",
      "source": [
        "# 13. What is a property decorator in Python\n",
        "In Python, a @property decorator is used to turn a method into a “getter” for an attribute, allowing you to access it like a regular attribute instead of calling a method.\n",
        "\n",
        "It is often used to encapsulate data while keeping clean and readable code."
      ],
      "metadata": {
        "id": "DditqAKo2wTJ"
      }
    },
    {
      "cell_type": "markdown",
      "source": [
        "# 14. Why is polymorphism important in OOP\n",
        "Polymorphism is important in OOP because it allows different objects to be treated uniformly while behaving differently based on their actual type.\n",
        "\n",
        "- Benefits\n",
        "\n",
        "Code Reusability: Same method can work with different object types.\n",
        "\n",
        "Flexibility: Easier to extend programs without changing existing code.\n",
        "\n",
        "Simplifies Code: Reduces conditional statements for different object types.\n",
        "\n",
        "Supports Polymorphic Behavior: Enables method overriding and consistent interfaces."
      ],
      "metadata": {
        "id": "DVRllCq_28KX"
      }
    },
    {
      "cell_type": "markdown",
      "source": [
        "# 15. What is an abstract class in Python\n",
        "In Python, an abstract class is a class that cannot be instantiated and is meant to be subclassed.\n",
        "\n",
        "It can contain abstract methods (methods without implementation) that must be implemented by subclasses.\n",
        "\n",
        "Used to define a common interface for a group of related classes."
      ],
      "metadata": {
        "id": "OgcuarAK4u8b"
      }
    },
    {
      "cell_type": "markdown",
      "source": [
        "# 16. What are the advantages of OOP\n",
        "- Key Advantages\n",
        "\n",
        "Modularity: Code is organized into classes and objects, making it easier to manage.\n",
        "\n",
        "Reusability: Classes can be reused across projects through inheritance.\n",
        "\n",
        "Maintainability: Easier to update, debug, and extend code.\n",
        "\n",
        "Encapsulation: Protects data by restricting direct access to object attributes.\n",
        "\n",
        "Polymorphism: Same interface can work with different object types, enhancing flexibility.\n",
        "\n",
        "Abstraction: Hides complex details, showing only essential features to users.\n",
        "\n",
        "Real-world Modeling: Objects can represent real-world entities, making code intuitive."
      ],
      "metadata": {
        "id": "ODLbDVB_6MmN"
      }
    },
    {
      "cell_type": "markdown",
      "source": [
        "# 17. What is the difference between a class variable and an instance variable\n",
        "- Class:\n",
        "\n",
        "Owned by the class itself. Shared by all instances of the class. A change in one instance affects all others. Defined directly inside the class body, outside of any methods. Used for data common to all instances (e.g., constants, shared settings, or counters).\n",
        "\n",
        "- Intance:\n",
        "\n",
        "Owned by a specific instance (object) of the class. Unique to each instance. A change in one instance doesn't affect any other. Defined inside a method (typically the __init__ constructor) and prefixed with self. Used for data unique to a specific object (e.g., name, age, balance)."
      ],
      "metadata": {
        "id": "SwxCwz0F7Pq6"
      }
    },
    {
      "cell_type": "markdown",
      "source": [
        "# 18. What is multiple inheritance in Python\n",
        "In Python, multiple inheritance occurs when a child class inherits from more than one parent class. The child class gets attributes and methods from all parent classes. Python resolves conflicts using the Method Resolution Order (MRO)."
      ],
      "metadata": {
        "id": "jmyKRRHX8Qfe"
      }
    },
    {
      "cell_type": "markdown",
      "source": [
        "# 19.  Explain the purpose of ‘’__str__’ and ‘__repr__’ ‘ methods in Python\n",
        "- __str__\n",
        "\n",
        "Returns a user-friendly or informal string representation of an object.\n",
        "\n",
        "Used by print() and str() functions.\n",
        "\n",
        "- __repr__\n",
        "\n",
        "Returns an official or developer-friendly string representation of an object.\n",
        "\n",
        "Used by repr() and in the interactive shell.\n",
        "\n",
        "Should ideally be unambiguous and, if possible, allow recreating the object."
      ],
      "metadata": {
        "id": "7h6u5GQL8dph"
      }
    },
    {
      "cell_type": "markdown",
      "source": [
        "# 20.  What is the significance of the ‘super()’ function in Python\n",
        "In Python, the super() function is used to call a method from a parent (super) class in a child class.\n",
        "\n",
        "- Significance\n",
        "\n",
        "Access Parent Methods: Allows the child class to use or extend parent class methods.\n",
        "\n",
        "Supports Inheritance: Useful in single, multiple, or multilevel inheritance.\n",
        "\n",
        "Avoids Hardcoding: No need to explicitly name the parent class — makes code more maintainable."
      ],
      "metadata": {
        "id": "dT_z7yE98tF2"
      }
    },
    {
      "cell_type": "markdown",
      "source": [
        "# 21. What is the significance of the __del__ method in Python\n",
        "In Python, the __del__ method is a destructor that is called when an object is about to be destroyed (garbage collected).\n",
        "\n",
        "- Significance\n",
        "\n",
        "Cleanup Resources: Automatically frees resources like files, network connections, or memory.\n",
        "\n",
        "Custom Actions on Deletion: Allows executing code when an object’s lifecycle ends."
      ],
      "metadata": {
        "id": "ZT90e0np_-DY"
      }
    },
    {
      "cell_type": "markdown",
      "source": [
        "# 22. What is the difference between @staticmethod and @classmethod in Python\n",
        "- @staticmethod\n",
        "\n",
        "first parameter is none. Cannot access instance or class attributes. Use cases is Utility/helper functions related to the class. it's called bt Class or instance.\n",
        "\n",
        "- @classmethod\n",
        "\n",
        "First parameter is cls (the class itself). Can access class attributes but not instance attributes. use cases is Methods that work with the class, e.g., alternative constructors. it;s called as Class or instance"
      ],
      "metadata": {
        "id": "SN33SPRIDcxP"
      }
    },
    {
      "cell_type": "markdown",
      "source": [
        "# 23. How does polymorphism work in Python with inheritance\n",
        "- Inheritance:\n",
        "\n",
        "You establish an \"is-a\" relationship, where subclasses inherit methods and attributes from a superclass. For example, a Dog is a type of Animal.\n",
        "\n",
        "- Common Interface:\n",
        "\n",
        "The base class defines a method that all subclasses are expected to have. For instance, the Animal class might define a generic speak() method.\n",
        "\n",
        "- Method Overriding (The Polymorphic Step):\n",
        "\n",
        "Each subclass that inherits the method can redefine or override it to provide behavior specific to that class.\n",
        "\n",
        "The Dog subclass overrides speak() to print \"Woof!\".\n",
        "\n",
        "The Cat subclass overrides speak() to print \"Meow!\".\n",
        "\n",
        "- Runtime Behavior:\n",
        "\n",
        "Because the classes share the same method name (speak()) and signature, you can treat objects of the different subclasses (Dog, Cat) as if they were objects of the common superclass (Animal). When you call the method on any of these objects, Python determines which specific implementation to execute at runtime based on the actual object's type. This is known as dynamic dispatch."
      ],
      "metadata": {
        "id": "T2QKegKuFyul"
      }
    },
    {
      "cell_type": "markdown",
      "source": [
        "# 24.  What is method chaining in Python OOP\n",
        "In Python OOP, method chaining is a technique where multiple methods are called sequentially on the same object in a single line.\n",
        "\n",
        "Achieved by returning self from each method.\n",
        "\n",
        "Makes code concise and readable."
      ],
      "metadata": {
        "id": "vPDNDpdDGcuR"
      }
    },
    {
      "cell_type": "markdown",
      "source": [
        "# 25.  What is the purpose of the __call__ method in Python\n",
        "In Python, the __call__ method allows an object to be called like a function.\n",
        "\n",
        "When you use parentheses () after an object, Python automatically invokes its __call__ method.\n",
        "\n",
        "Useful for making objects behave like functions while keeping state or additional functionality."
      ],
      "metadata": {
        "id": "RlbxMRmJGqIj"
      }
    },
    {
      "cell_type": "code",
      "source": [
        "# 1. Create a parent class Animal with a method speak() that prints a generic message. Create a child class Dog that overrides the speak() method to print \"Bark!\"\n",
        "\n",
        "class Animal:\n",
        "    def speak(self):\n",
        "        print(\"Animal makes a sound\")\n",
        "\n",
        "class Dog(Animal):\n",
        "    def speak(self):\n",
        "        print(\"Bark!\")\n",
        "\n",
        "a = Animal()\n",
        "d = Dog()\n",
        "\n",
        "a.speak()\n",
        "d.speak()\n"
      ],
      "metadata": {
        "colab": {
          "base_uri": "https://localhost:8080/"
        },
        "id": "o2TMhsPFfS3q",
        "outputId": "17dc92fb-e1af-4ce5-8456-0e2cf3a8b1e9"
      },
      "execution_count": 1,
      "outputs": [
        {
          "output_type": "stream",
          "name": "stdout",
          "text": [
            "Animal makes a sound\n",
            "Bark!\n"
          ]
        }
      ]
    },
    {
      "cell_type": "code",
      "source": [
        "# 2. Write a program to create an abstract class Shape with a method area(). Derive classes Circle and Rectangle from it and implement the area() method in both.\n",
        "\n",
        "from abc import ABC, abstractmethod\n",
        "class Shape(ABC):\n",
        "    @abstractmethod\n",
        "    def area(self):\n",
        "        pass\n",
        "class Circle(Shape):\n",
        "    def __init__(self, radius):\n",
        "        self.radius = radius\n",
        "\n",
        "    def area(self):\n",
        "        return 3.14 * self.radius * self.radius\n",
        "class Rectangle(Shape):\n",
        "    def __init__(self, length, width):\n",
        "        self.length = length\n",
        "        self.width = width\n",
        "\n",
        "    def area(self):\n",
        "        return self.length * self.width\n",
        "c = Circle(5)\n",
        "r = Rectangle(4, 6)\n",
        "print(\"Area of Circle:\", c.area())\n",
        "print(\"Area of Rectangle:\", r.area())\n"
      ],
      "metadata": {
        "colab": {
          "base_uri": "https://localhost:8080/"
        },
        "id": "m-sa2LN5fvZF",
        "outputId": "d5ffc699-0abf-47de-e2da-31d105788351"
      },
      "execution_count": 2,
      "outputs": [
        {
          "output_type": "stream",
          "name": "stdout",
          "text": [
            "Area of Circle: 78.5\n",
            "Area of Rectangle: 24\n"
          ]
        }
      ]
    },
    {
      "cell_type": "code",
      "source": [
        "# 3. Implement a multi-level inheritance scenario where a class Vehicle has an attribute type. Derive a class Car and further derive a class ElectricCar that adds a battery attribute.\n",
        "class Vehicle:\n",
        "    def __init__(self, vehicle_type):\n",
        "        self.type = vehicle_type\n",
        "\n",
        "    def display_type(self):\n",
        "        print(\"Vehicle type:\", self.type)\n",
        "\n",
        "class Car(Vehicle):\n",
        "    def __init__(self, vehicle_type, brand):\n",
        "        super().__init__(vehicle_type)\n",
        "        self.brand = brand\n",
        "\n",
        "    def display_info(self):\n",
        "        print(\"Car brand:\", self.brand)\n",
        "\n",
        "class ElectricCar(Car):\n",
        "    def __init__(self, vehicle_type, brand, battery_capacity):\n",
        "        super().__init__(vehicle_type, brand)\n",
        "        self.battery = battery_capacity\n",
        "\n",
        "    def display_details(self):\n",
        "        self.display_type()\n",
        "        self.display_info()\n",
        "        print(\"Battery capacity:\", self.battery, \"kWh\")\n",
        "e_car = ElectricCar(\"Four Wheeler\", \"Tesla\", 75)\n",
        "\n",
        "e_car.display_details()\n"
      ],
      "metadata": {
        "colab": {
          "base_uri": "https://localhost:8080/"
        },
        "id": "KmS7F9IMgS6d",
        "outputId": "26c4c259-a8ad-4ba1-952f-b05e6c9f9b95"
      },
      "execution_count": 3,
      "outputs": [
        {
          "output_type": "stream",
          "name": "stdout",
          "text": [
            "Vehicle type: Four Wheeler\n",
            "Car brand: Tesla\n",
            "Battery capacity: 75 kWh\n"
          ]
        }
      ]
    },
    {
      "cell_type": "code",
      "source": [
        "# 4.  Demonstrate polymorphism by creating a base class Bird with a method fly(). Create two derived classes Sparrow and Penguin that override the fly() method.\n",
        "\n",
        "class Bird:\n",
        "    def fly(self):\n",
        "        print(\"Bird can fly\")\n",
        "class Sparrow(Bird):\n",
        "    def fly(self):\n",
        "        print(\"Sparrow flies high in the sky\")\n",
        "class Penguin(Bird):\n",
        "    def fly(self):\n",
        "        print(\"Penguin cannot fly, it swims instead\")\n",
        "b = Bird()\n",
        "s = Sparrow()\n",
        "p = Penguin()\n",
        "b.fly()\n",
        "s.fly()\n",
        "p.fly()\n"
      ],
      "metadata": {
        "colab": {
          "base_uri": "https://localhost:8080/"
        },
        "id": "cdOKhEN3g6pm",
        "outputId": "2f7e89dd-55ac-4bb2-94ca-5238e9a50254"
      },
      "execution_count": 4,
      "outputs": [
        {
          "output_type": "stream",
          "name": "stdout",
          "text": [
            "Bird can fly\n",
            "Sparrow flies high in the sky\n",
            "Penguin cannot fly, it swims instead\n"
          ]
        }
      ]
    },
    {
      "cell_type": "code",
      "source": [
        "# 5. Write a program to demonstrate encapsulation by creating a class BankAccount with private attributes balance and methods to deposit, withdraw, and check balance.\n",
        "class BankAccount:\n",
        "    def __init__(self, initial_balance):\n",
        "        self.__balance = initial_balance\n",
        "\n",
        "\n",
        "    def deposit(self, amount):\n",
        "        if amount > 0:\n",
        "            self.__balance += amount\n",
        "            print(f\"Deposited: {amount}\")\n",
        "        else:\n",
        "            print(\"Deposit amount must be positive.\")\n",
        "\n",
        "\n",
        "    def withdraw(self, amount):\n",
        "        if 0 < amount <= self.__balance:\n",
        "            self.__balance -= amount\n",
        "            print(f\"Withdrawn: {amount}\")\n",
        "        else:\n",
        "            print(\"Insufficient balance or invalid amount.\")\n",
        "\n",
        "\n",
        "    def check_balance(self):\n",
        "        print(f\"Current balance: {self.__balance}\")\n",
        "\n",
        "\n",
        "account = BankAccount(1000)\n",
        "\n",
        "account.check_balance()\n",
        "account.deposit(500)\n",
        "account.withdraw(300)\n",
        "account.check_balance()\n",
        "\n"
      ],
      "metadata": {
        "colab": {
          "base_uri": "https://localhost:8080/"
        },
        "id": "mbxXUvyfhW2Z",
        "outputId": "f482d4d4-221e-4f56-e5c6-9f9a16d76a38"
      },
      "execution_count": 5,
      "outputs": [
        {
          "output_type": "stream",
          "name": "stdout",
          "text": [
            "Current balance: 1000\n",
            "Deposited: 500\n",
            "Withdrawn: 300\n",
            "Current balance: 1200\n"
          ]
        }
      ]
    },
    {
      "cell_type": "code",
      "source": [
        "# 6. Demonstrate runtime polymorphism using a method play() in a base class Instrument. Derive classes Guitar and Piano that implement their own version of play().\n",
        "\n",
        "class Instrument:\n",
        "    def play(self):\n",
        "        print(\"Instrument is being played\")\n",
        "\n",
        "\n",
        "class Guitar(Instrument):\n",
        "    def play(self):\n",
        "        print(\"Guitar is strummed\")\n",
        "\n",
        "\n",
        "class Piano(Instrument):\n",
        "    def play(self):\n",
        "        print(\"Piano is played with keys\")\n",
        "\n",
        "\n",
        "def perform(instrument):\n",
        "    instrument.play()\n",
        "\n",
        "\n",
        "instr1 = Guitar()\n",
        "instr2 = Piano()\n",
        "\n",
        "\n",
        "perform(instr1)\n",
        "perform(instr2)\n"
      ],
      "metadata": {
        "colab": {
          "base_uri": "https://localhost:8080/"
        },
        "id": "XUI0w5Ujh7x_",
        "outputId": "c7b52fef-af18-4a7d-b5ff-7fcfe5bf9f73"
      },
      "execution_count": 6,
      "outputs": [
        {
          "output_type": "stream",
          "name": "stdout",
          "text": [
            "Guitar is strummed\n",
            "Piano is played with keys\n"
          ]
        }
      ]
    },
    {
      "cell_type": "code",
      "source": [
        "# 7. Create a class MathOperations with a class method add_numbers() to add two numbers and a static method subtract_numbers() to subtract two numbers.\n",
        "class MathOperations:\n",
        "    @classmethod\n",
        "    def add_numbers(cls, a, b):\n",
        "        return a + b\n",
        "    @staticmethod\n",
        "    def subtract_numbers(a, b):\n",
        "        return a - b\n",
        "\n",
        "sum_result = MathOperations.add_numbers(10, 5)\n",
        "print(\"Sum:\", sum_result)\n",
        "\n",
        "diff_result = MathOperations.subtract_numbers(10, 5)\n",
        "print(\"Difference:\", diff_result)\n"
      ],
      "metadata": {
        "colab": {
          "base_uri": "https://localhost:8080/"
        },
        "id": "zCx-zFKSiuH3",
        "outputId": "fbd2f381-6be8-41a5-ac3f-399b5e3ff609"
      },
      "execution_count": 7,
      "outputs": [
        {
          "output_type": "stream",
          "name": "stdout",
          "text": [
            "Sum: 15\n",
            "Difference: 5\n"
          ]
        }
      ]
    },
    {
      "cell_type": "code",
      "source": [
        "# 8. Implement a class Person with a class method to count the total number of persons created.\n",
        "class Person:\n",
        "    total_persons = 0\n",
        "\n",
        "    def __init__(self, name, age):\n",
        "        self.name = name\n",
        "        self.age = age\n",
        "        Person.total_persons += 1\n",
        "\n",
        "\n",
        "    @classmethod\n",
        "    def get_total_persons(cls):\n",
        "        return cls.total_persons\n",
        "\n",
        "p1 = Person(\"Alice\", 25)\n",
        "p2 = Person(\"Bob\", 30)\n",
        "p3 = Person(\"Charlie\", 22)\n",
        "\n",
        "print(\"Total persons created:\", Person.get_total_persons())\n"
      ],
      "metadata": {
        "colab": {
          "base_uri": "https://localhost:8080/"
        },
        "id": "z0Z_qZ2ejDw7",
        "outputId": "0324866b-094a-4f2d-ac92-8b0f2a259d98"
      },
      "execution_count": 8,
      "outputs": [
        {
          "output_type": "stream",
          "name": "stdout",
          "text": [
            "Total persons created: 3\n"
          ]
        }
      ]
    },
    {
      "cell_type": "code",
      "source": [
        "# 9. Write a class Fraction with attributes numerator and denominator. Override the str method to display the fraction as \"numerator/denominator\".\n",
        "class Fraction:\n",
        "    def __init__(self, numerator, denominator):\n",
        "        self.numerator = numerator\n",
        "        self.denominator = denominator\n",
        "\n",
        "\n",
        "    def __str__(self):\n",
        "        return f\"{self.numerator}/{self.denominator}\"\n",
        "\n",
        "f1 = Fraction(3, 4)\n",
        "f2 = Fraction(5, 2)\n",
        "\n",
        "print(f1)\n",
        "print(f2)\n"
      ],
      "metadata": {
        "colab": {
          "base_uri": "https://localhost:8080/"
        },
        "id": "_MjtxbNEjebV",
        "outputId": "08f71b64-6743-4f98-a682-5fac97a71c3f"
      },
      "execution_count": 9,
      "outputs": [
        {
          "output_type": "stream",
          "name": "stdout",
          "text": [
            "3/4\n",
            "5/2\n"
          ]
        }
      ]
    },
    {
      "cell_type": "code",
      "source": [
        "# 10. Demonstrate operator overloading by creating a class Vector and overriding the add method to add two vectors.\n",
        "class Vector:\n",
        "    def __init__(self, x, y):\n",
        "        self.x = x\n",
        "        self.y = y\n",
        "\n",
        "\n",
        "    def __add__(self, other):\n",
        "        return Vector(self.x + other.x, self.y + other.y)\n",
        "\n",
        "\n",
        "    def __str__(self):\n",
        "        return f\"({self.x}, {self.y})\"\n",
        "\n",
        "\n",
        "v1 = Vector(2, 3)\n",
        "v2 = Vector(4, 5)\n",
        "\n",
        "v3 = v1 + v2\n",
        "\n",
        "print(\"v1 + v2 =\", v3)\n"
      ],
      "metadata": {
        "colab": {
          "base_uri": "https://localhost:8080/"
        },
        "id": "GHpqg3g2jujV",
        "outputId": "599144b0-beb9-45e3-a10f-3c2b4d1ebf41"
      },
      "execution_count": 10,
      "outputs": [
        {
          "output_type": "stream",
          "name": "stdout",
          "text": [
            "v1 + v2 = (6, 8)\n"
          ]
        }
      ]
    },
    {
      "cell_type": "code",
      "source": [
        "# 11.  Create a class Person with attributes name and age. Add a method greet() that prints \"Hello, my name is {name} and I am {age} years old.\"\n",
        "class Person:\n",
        "    def __init__(self, name, age):\n",
        "        self.name = name\n",
        "        self.age = age\n",
        "\n",
        "\n",
        "    def greet(self):\n",
        "        print(f\"Hello, my name is {self.name} and I am {self.age} years old.\")\n",
        "\n",
        "\n",
        "p1 = Person(\"Debjit\", 24)\n",
        "\n",
        "\n",
        "p1.greet()\n"
      ],
      "metadata": {
        "colab": {
          "base_uri": "https://localhost:8080/"
        },
        "id": "yqqzXWaikHzB",
        "outputId": "a49631b9-f88a-433c-df74-637da22f5a2b"
      },
      "execution_count": 11,
      "outputs": [
        {
          "output_type": "stream",
          "name": "stdout",
          "text": [
            "Hello, my name is Debjit and I am 24 years old.\n"
          ]
        }
      ]
    },
    {
      "cell_type": "code",
      "source": [
        "# 12.  Implement a class Student with attributes name and grades. Create a method average_grade() to compute the average of the grades.\n",
        "class Student:\n",
        "    def __init__(self, name, grades):\n",
        "        self.name = name\n",
        "        self.grades = grades\n",
        "\n",
        "\n",
        "    def average_grade(self):\n",
        "        if len(self.grades) == 0:\n",
        "            return 0\n",
        "        return sum(self.grades) / len(self.grades)\n",
        "\n",
        "s1 = Student(\"Debjit\", [85, 90, 78, 92])\n",
        "\n",
        "print(f\"{s1.name}'s average grade is: {s1.average_grade():.2f}\")\n"
      ],
      "metadata": {
        "colab": {
          "base_uri": "https://localhost:8080/"
        },
        "id": "-Q63WSp5kYdz",
        "outputId": "a8b212c5-dc6c-4c8a-cb4e-912dfd36c7a3"
      },
      "execution_count": 12,
      "outputs": [
        {
          "output_type": "stream",
          "name": "stdout",
          "text": [
            "Debjit's average grade is: 86.25\n"
          ]
        }
      ]
    },
    {
      "cell_type": "code",
      "source": [
        "# 13. Create a class Rectangle with methods set_dimensions() to set the dimensions and area() to calculate the area.\n",
        "class Rectangle:\n",
        "    def __init__(self):\n",
        "        self.length = 0\n",
        "        self.width = 0\n",
        "\n",
        "\n",
        "    def set_dimensions(self, length, width):\n",
        "        self.length = length\n",
        "        self.width = width\n",
        "\n",
        "\n",
        "    def area(self):\n",
        "        return self.length * self.width\n",
        "\n",
        "\n",
        "rect = Rectangle()\n",
        "\n",
        "rect.set_dimensions(5, 8)\n",
        "\n",
        "print(\"Area of rectangle:\", rect.area())\n"
      ],
      "metadata": {
        "colab": {
          "base_uri": "https://localhost:8080/"
        },
        "id": "WDNHqh5NkrLq",
        "outputId": "0afeb16e-d678-4ed2-bcbf-ad15642aed35"
      },
      "execution_count": 13,
      "outputs": [
        {
          "output_type": "stream",
          "name": "stdout",
          "text": [
            "Area of rectangle: 40\n"
          ]
        }
      ]
    },
    {
      "cell_type": "code",
      "source": [
        "# 14. Create a class Employee with a method calculate_salary() that computes the salary based on hours worked and hourly rate. Create a derived class Manager that adds a bonus to the salary.\n",
        "\n",
        "class Employee:\n",
        "    def __init__(self, name, hours_worked, hourly_rate):\n",
        "        self.name = name\n",
        "        self.hours_worked = hours_worked\n",
        "        self.hourly_rate = hourly_rate\n",
        "\n",
        "\n",
        "    def calculate_salary(self):\n",
        "        return self.hours_worked * self.hourly_rate\n",
        "\n",
        "class Manager(Employee):\n",
        "    def __init__(self, name, hours_worked, hourly_rate, bonus):\n",
        "        super().__init__(name, hours_worked, hourly_rate)\n",
        "        self.bonus = bonus\n",
        "\n",
        "\n",
        "    def calculate_salary(self):\n",
        "        base_salary = super().calculate_salary()\n",
        "        return base_salary + self.bonus\n",
        "\n",
        "emp = Employee(\"Alice\", 40, 20)\n",
        "mgr = Manager(\"Bob\", 40, 30, 500)\n",
        "\n",
        "print(f\"{emp.name}'s salary: ${emp.calculate_salary()}\")\n",
        "print(f\"{mgr.name}'s salary: ${mgr.calculate_salary()}\")\n"
      ],
      "metadata": {
        "colab": {
          "base_uri": "https://localhost:8080/"
        },
        "id": "r3ekMOFsk78B",
        "outputId": "0716cad2-8543-4015-9529-8bf343285fe3"
      },
      "execution_count": 14,
      "outputs": [
        {
          "output_type": "stream",
          "name": "stdout",
          "text": [
            "Alice's salary: $800\n",
            "Bob's salary: $1700\n"
          ]
        }
      ]
    },
    {
      "cell_type": "code",
      "source": [
        "# 15. Create a class Product with attributes name, price, and quantity. Implement a method total_price() that calculates the total price of the product.\n",
        "class Product:\n",
        "    def __init__(self, name, price, quantity):\n",
        "        self.name = name\n",
        "        self.price = price\n",
        "        self.quantity = quantity\n",
        "\n",
        "\n",
        "    def total_price(self):\n",
        "        return self.price * self.quantity\n",
        "\n",
        "\n",
        "p1 = Product(\"Laptop\", 500, 3)\n",
        "\n",
        "print(f\"Total price of {p1.name}: ${p1.total_price()}\")\n"
      ],
      "metadata": {
        "colab": {
          "base_uri": "https://localhost:8080/"
        },
        "id": "bacdq1MKlRy3",
        "outputId": "55a02cb3-f7e5-4508-c9ec-790b974db2f3"
      },
      "execution_count": 15,
      "outputs": [
        {
          "output_type": "stream",
          "name": "stdout",
          "text": [
            "Total price of Laptop: $1500\n"
          ]
        }
      ]
    },
    {
      "cell_type": "code",
      "source": [
        "# 16. Create a class Animal with an abstract method sound(). Create two derived classes Cow and Sheep that implement the sound() method.\n",
        "from abc import ABC, abstractmethod\n",
        "class Animal(ABC):\n",
        "    @abstractmethod\n",
        "    def sound(self):\n",
        "        pass\n",
        "class Cow(Animal):\n",
        "    def sound(self):\n",
        "        print(\"Cow says: Moo\")\n",
        "class Sheep(Animal):\n",
        "    def sound(self):\n",
        "        print(\"Sheep says: Baa\")\n",
        "cow = Cow()\n",
        "sheep = Sheep()\n",
        "\n",
        "cow.sound()\n",
        "sheep.sound()\n"
      ],
      "metadata": {
        "colab": {
          "base_uri": "https://localhost:8080/"
        },
        "id": "HOPehHTklhnV",
        "outputId": "b36711a9-0b9d-4718-9489-e71741d50c49"
      },
      "execution_count": 16,
      "outputs": [
        {
          "output_type": "stream",
          "name": "stdout",
          "text": [
            "Cow says: Moo\n",
            "Sheep says: Baa\n"
          ]
        }
      ]
    },
    {
      "cell_type": "code",
      "source": [
        "# 17. Create a class Book with attributes title, author, and year_published. Add a method get_book_info() that returns a formatted string with the book's details.\n",
        "class Book:\n",
        "    def __init__(self, title, author, year_published):\n",
        "        self.title = title\n",
        "        self.author = author\n",
        "        self.year_published = year_published\n",
        "\n",
        "    def get_book_info(self):\n",
        "        return f\"Title: {self.title}, Author: {self.author}, Year Published: {self.year_published}\"\n",
        "\n",
        "book1 = Book(\"1984\", \"George Orwell\", 1949)\n",
        "\n",
        "print(book1.get_book_info())\n"
      ],
      "metadata": {
        "colab": {
          "base_uri": "https://localhost:8080/"
        },
        "id": "hM4yp92ml1WB",
        "outputId": "77d179cf-720c-4e67-c1b5-c183c835d187"
      },
      "execution_count": 17,
      "outputs": [
        {
          "output_type": "stream",
          "name": "stdout",
          "text": [
            "Title: 1984, Author: George Orwell, Year Published: 1949\n"
          ]
        }
      ]
    },
    {
      "cell_type": "code",
      "source": [
        "# 18. Create a class House with attributes address and price. Create a derived class Mansion that adds an attribute number_of_rooms.\n",
        "\n",
        "class House:\n",
        "    def __init__(self, address, price):\n",
        "        self.address = address\n",
        "        self.price = price\n",
        "\n",
        "    def display_info(self):\n",
        "        print(f\"Address: {self.address}, Price: ${self.price}\")\n",
        "\n",
        "class Mansion(House):\n",
        "    def __init__(self, address, price, number_of_rooms):\n",
        "        super().__init__(address, price)\n",
        "        self.number_of_rooms = number_of_rooms\n",
        "\n",
        "    def display_info(self):\n",
        "        super().display_info()\n",
        "        print(f\"Number of rooms: {self.number_of_rooms}\")\n",
        "\n",
        "\n",
        "house = House(\"123 Maple Street\", 250000)\n",
        "mansion = Mansion(\"456 Oak Avenue\", 1500000, 10)\n",
        "\n",
        "\n",
        "house.display_info()\n",
        "print()\n",
        "mansion.display_info()\n"
      ],
      "metadata": {
        "colab": {
          "base_uri": "https://localhost:8080/"
        },
        "id": "krm098i4mK63",
        "outputId": "532633f9-0943-4f60-a197-c1adc09c0496"
      },
      "execution_count": 18,
      "outputs": [
        {
          "output_type": "stream",
          "name": "stdout",
          "text": [
            "Address: 123 Maple Street, Price: $250000\n",
            "\n",
            "Address: 456 Oak Avenue, Price: $1500000\n",
            "Number of rooms: 10\n"
          ]
        }
      ]
    }
  ]
}
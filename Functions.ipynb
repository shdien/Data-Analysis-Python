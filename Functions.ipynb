{
  "nbformat": 4,
  "nbformat_minor": 0,
  "metadata": {
    "colab": {
      "provenance": []
    },
    "kernelspec": {
      "name": "python3",
      "display_name": "Python 3"
    },
    "language_info": {
      "name": "python"
    }
  },
  "cells": [
    {
      "cell_type": "markdown",
      "source": [
        "# 1. What is the difference between a function and a method in Python?\n",
        "- Function:\n",
        "\n",
        "A function is a block of code that is designed to perform a specific task. It can be defined and called independently. Defined using def keyword.Can exist in the global scope (outside any class) Can be called directly without needing an instance of a class.\n",
        "\n",
        "- Method:\n",
        "\n",
        "A method is a function that is associated with an object (i.e., an instance of a class). It is defined within a class and is bound to the instance (or class itself in case of class methods). Defined within a class. Can operate on the instance of the class (using self) or on the class itself (using cls for class methods). Must be called on an instance of the class (or on the class itself for class methods)."
      ],
      "metadata": {
        "id": "BHbp8zscLeZM"
      }
    },
    {
      "cell_type": "markdown",
      "source": [
        "# 2. Explain the concept of function arguments and parameters in Python.\n",
        "- Parameters:\n",
        "\n",
        "Parameters are the variables that are defined in the function signature. They act as placeholders for the values that will be passed into the function when it is called. You can think of parameters as the \"input variables\" that the function expects to receive when invoked. Defined in the function definition. They provide a way for the function to accept values when called.\n",
        "\n",
        "- Arguments:\n",
        "\n",
        "Arguments are the actual values or data passed to the function when you call it. These values replace the parameters in the function definition. Passed when the function is called. The arguments are assigned to the corresponding parameters in the function."
      ],
      "metadata": {
        "id": "SyYKVz8pL4us"
      }
    },
    {
      "cell_type": "markdown",
      "source": [
        "# 3. What are the different ways to define and call a function in Python?\n",
        "- Basic function without parameters:\n",
        "\n",
        "def greet():\n",
        "\n",
        "    print(\"Hello, world!\")\n",
        "\n",
        "greet()\n",
        "\n",
        "\n",
        "- Function with parameters:\n",
        "\n",
        "def add(a, b):\n",
        "\n",
        "    return a + b\n",
        "\n",
        "result = add(3, 5)\n",
        "\n",
        "print(result)\n",
        "\n",
        "\n",
        "- Function with default parameter values:\n",
        "\n",
        "def greet(name=\"Guest\"):\n",
        "\n",
        "    print(f\"Hello, {name}!\")\n",
        "\n",
        "greet()\n",
        "\n",
        "greet(\"Bob\")\n",
        "\n",
        "\n",
        "- Function with variable-length arguments (*args):\n",
        "\n",
        "def sum_all(*args):\n",
        "\n",
        "    return sum(args)\n",
        "\n",
        "print(sum_all(1, 2, 3))\n",
        "\n",
        "\n",
        "- Function with keyword arguments:\n",
        "\n",
        "def print_info(name, age):\n",
        "\n",
        "    print(f\"Name: {name}, Age: {age}\")\n",
        "\n",
        "print_info(age=30, name=\"John\")\n",
        "\n",
        "\n",
        "- Lambda (anonymous) functions:\n",
        "\n",
        "add = lambda x, y: x + y\n",
        "\n",
        "print(add(3, 5))\n",
        "\n",
        "\n",
        "- Recursive functions (function calls itself):\n",
        "\n",
        "def factorial(n):\n",
        "\n",
        "    if n == 1:\n",
        "\n",
        "        return 1\n",
        "\n",
        "    else:\n",
        "\n",
        "        return n * factorial(n - 1)\n",
        "        \n",
        "print(factorial(5))"
      ],
      "metadata": {
        "id": "ffep45AmMlsM"
      }
    },
    {
      "cell_type": "markdown",
      "source": [
        "# 4. What is the purpose of the `return` statement in a Python function?\n",
        "The purpose of the return statement in a Python function is to exit the function and send a value back to the caller. It allows a function to produce a result that can be stored, manipulated, or used elsewhere in the code. When a return statement is executed, the function terminates immediately, and the specified value (if any) is passed back. If no value is provided or no return statement is used, the function implicitly returns None.\n",
        "\n",
        "Key points about the return statement:\n",
        "\n",
        "1. It ends the function execution.\n",
        "\n",
        "2. It sends a value back to where the function was called.\n",
        "\n",
        "3. It allows the returned value to be assigned to variables or used in expressions.\n",
        "\n",
        "4. Multiple return statements can be used in a function to return different values based on conditions.\n",
        "\n",
        "5. Without a return statement, the function returns None by default."
      ],
      "metadata": {
        "id": "CDc8HQqzN7KK"
      }
    },
    {
      "cell_type": "markdown",
      "source": [
        "# 5. What are iterators in Python and how do they differ from iterables?\n",
        "- Iterable:-\n",
        "\n",
        "An iterable is an object that can be \"iterated over,\" meaning you can loop through all its elements one by one. It implements the __iter__() method that returns an iterator object. Common examples include lists, tuples, strings, dictionaries, and sets. You can get an iterator from an iterable by calling the built-in iter() function. Iterables are containers of data.\n",
        "\n",
        "- Iterator:-\n",
        "\n",
        "An iterator is an object that represents a stream of data; it produces the next value when requested. It implements two methods: __iter__() (returns the iterator itself) and __next__() (returns the next item). Iterators keep an internal state and track where they are in the iteration. When there are no more items to return, the iterator raises a StopIteration exception to end the iteration."
      ],
      "metadata": {
        "id": "MTY5zTA9OanR"
      }
    },
    {
      "cell_type": "markdown",
      "source": [
        "# 6. Explain the concept of generators in Python and how they are defined.\n",
        "Generators in Python are special types of iterators that allow you to produce a sequence of values lazily, meaning they generate each value on the fly and only when requested, instead of storing all values in memory at once. This makes them very memory efficient and suitable for working with large data sets or infinite sequences.\n",
        "\n",
        "How Generators are Defined:-\n",
        "\n",
        "1. Generators are defined using regular functions but use the yield keyword instead of return.\n",
        "\n",
        "2. The yield statement produces a value and pauses the function's execution, maintaining its state so that it can resume where it left off the next time it is called.\n",
        "\n",
        "3. When the generator function is called, it returns a generator object (an iterator) but does not start execution immediately.\n",
        "\n",
        "4. Each call to next() on the generator object resumes the function until it hits the next yield or completes."
      ],
      "metadata": {
        "id": "pkimTzmwPGBL"
      }
    },
    {
      "cell_type": "markdown",
      "source": [
        "# 7. What are the advantages of using generators over regular functions?\n",
        "The advantages of using generators over regular functions in Python include:\n",
        "\n",
        "1. Generators produce values one at a time and only when required, rather than computing and storing the entire sequence in memory. This lazy evaluation makes generators highly memory efficient, especially for large datasets or infinite sequences. Regular functions generate all the results at once and store them in memory, which can be impractical for large data.\n",
        "\n",
        "2. Generators yield items only when requested, allowing for on-demand computation. This defers processing until necessary, saving resources and making workflows more efficient. Regular functions execute completely before returning a result.\n",
        "\n",
        "3. Generators maintain their execution state between yields, so each call to next() resumes from where it left off. This allows complex iterators over data without restarting or recomputing values. Regular functions do not preserve state once they return.\n",
        "\n",
        "4. Because generators produce values lazily, they can model infinite sequences (e.g., counting numbers, Fibonacci numbers) without running out of memory. Regular functions cannot handle infinite processes as they attempt to generate all values at once.\n",
        "\n",
        "5. Generators offer a more concise and readable way to implement iterators compared to writing iterator classes with __iter__() and __next__() methods. This reduces boilerplate code."
      ],
      "metadata": {
        "id": "Y0r-feqXPbfF"
      }
    },
    {
      "cell_type": "markdown",
      "source": [
        "# 8. What is a lambda function in Python and when is it typically used?\n",
        "A lambda function in Python is a small, anonymous (unnamed) function that is defined using the lambda keyword. It can take any number of arguments but is restricted to a single expression, the result of which is returned automatically. Lambda functions are commonly used for short, simple operations where defining a full function with def would be unnecessarily verbose.\n",
        "\n",
        "Lambda Function Typically Used:-\n",
        "\n",
        "1. For small, throwaway functions that are used only once or briefly.\n",
        "\n",
        "2. As arguments to higher-order functions like map(), filter(), and sorted() where a simple operation is needed inline.\n",
        "\n",
        "3. To create concise, readable code without formally defining a function.\n",
        "\n",
        "4. When you want to pass a simple function as an argument and avoid cluttering the code with a full function definition.\n",
        "\n",
        "square = lambda x: x * x\n",
        "\n",
        "print(square(5))  # Output: 25\n"
      ],
      "metadata": {
        "id": "Wk1zXTb6QI60"
      }
    },
    {
      "cell_type": "markdown",
      "source": [
        "# 9. Explain the purpose and usage of the `map()` function in Python.\n",
        "The purpose of the map() function in Python is to apply a specified function to every item in one or more iterables (like lists, tuples, etc.) and return a map object (an iterator) with the results. This allows transforming or processing all elements in an iterable efficiently without using explicit loops.\n",
        "\n",
        "- How It Works:\n",
        "\n",
        "1. map() calls the given function on the first item from each iterable, then the second item, and so on.\n",
        "\n",
        "2. It returns a map object, which is an iterator that yields the transformed items on demand.\n",
        "\n",
        "3. The map object can be converted to other collection types like lists or tuples using list() or tuple().\n",
        "\n",
        "a = [1, 2, 3]\n",
        "\n",
        "b = [4, 5, 6]\n",
        "\n",
        "result = map(lambda x, y: x + y, a, b)\n",
        "\n",
        "print(list(result))  # Output: [5, 7, 9]\n"
      ],
      "metadata": {
        "id": "scfvmD-mQuId"
      }
    },
    {
      "cell_type": "markdown",
      "source": [
        "# 10. What is the difference between `map()`, `reduce()`, and `filter()` functions in Python?\n",
        "- map():\n",
        "\n",
        "1. Purpose: Transforms each element in an iterable by applying a given function to every item.\n",
        "\n",
        "2. Input: A function and one or more iterables.\n",
        "\n",
        "3. Output: A map object (iterator) with the transformed elements.\n",
        "\n",
        "4. Usage: Use when you want to apply the same operation to all items and get a corresponding result.\n",
        "\n",
        "- filter():\n",
        "\n",
        "1. Purpose: Filters elements from an iterable by applying a function that returns True or False.\n",
        "\n",
        "2. Input: A function (condition) and an iterable.\n",
        "\n",
        "3. Output: A filter object (iterator) containing only the elements that satisfy the condition.\n",
        "\n",
        "4. Usage: Use when you want to select or \"filter\" items based on a predicate.\n",
        "\n",
        "- reduce():\n",
        "\n",
        "1. Purpose: Reduces or aggregates all elements in an iterable to a single cumulative value by repeatedly applying a binary function.\n",
        "\n",
        "2. Input: A function of two arguments and an iterable.\n",
        "\n",
        "3. Output: A single value representing the reduction result.\n",
        "\n",
        "4. Usage: Use when you want to combine all elements into one result, such as summing or multiplying."
      ],
      "metadata": {
        "id": "nvU-9jbIRQWX"
      }
    },
    {
      "cell_type": "markdown",
      "source": [
        "# 11. Using pen & Paper write the internal mechanism for sum operation using  reduce function on this given list:[47,11,42,13];\n",
        "Syntax:-\n",
        "\n",
        "List = [47, 11, 42, 13]\n",
        "\n",
        "Function = lambda x, y: x + y\n",
        "\n",
        "- Step 1:\n",
        "\n",
        "x = 47\n",
        "\n",
        "y = 11\n",
        "\n",
        "x + y = 58\n",
        "\n",
        "- Step 2:\n",
        "\n",
        "x = 58\n",
        "\n",
        "y = 42\n",
        "\n",
        "x + y = 100\n",
        "\n",
        "- Step 3:\n",
        "\n",
        "x = 100\n",
        "\n",
        "y = 13\n",
        "\n",
        "x + y = 113\n",
        "\n",
        "\n"
      ],
      "metadata": {
        "id": "h5TURyDWR-Es"
      }
    },
    {
      "cell_type": "code",
      "source": [
        "# 1. Write a Python function that takes a list of numbers as input and returns the sum of all even numbers in the list\n",
        "\n",
        "def sum_of_even_numbers(numbers):\n",
        "    return sum(num for num in numbers if num % 2 == 0)"
      ],
      "metadata": {
        "id": "UvW2l1bzJm6U"
      },
      "execution_count": 5,
      "outputs": []
    },
    {
      "cell_type": "code",
      "source": [
        "# 2. Create a Python function that accepts a string and returns the reverse of that string\n",
        "def reverse_string(s):\n",
        "  return s[::-1]\n",
        "\n",
        "original_string = \"hello world\"\n",
        "reversed_str = reverse_string(original_string)\n",
        "\n",
        "print(f\"Original: {original_string}\")\n",
        "print(f\"Reversed: {reversed_str}\")\n"
      ],
      "metadata": {
        "colab": {
          "base_uri": "https://localhost:8080/"
        },
        "id": "lEjkNTJcKs2u",
        "outputId": "4b7d0517-c5b7-456e-fda4-dda34b3ea02d"
      },
      "execution_count": 9,
      "outputs": [
        {
          "output_type": "stream",
          "name": "stdout",
          "text": [
            "Original: hello world\n",
            "Reversed: dlrow olleh\n"
          ]
        }
      ]
    },
    {
      "cell_type": "code",
      "source": [
        "# 3.  Implement a Python function that takes a list of integers and returns a new list containing the squares of each number.\n",
        "\n",
        "def square_list(numbers):\n",
        "    squared = []\n",
        "    for num in numbers:\n",
        "        squared.append(num ** 2)\n",
        "    return squared\n",
        "nums = [1, 2, 3, 4, 5]\n",
        "print(\"Squared list:\", square_list(nums))\n"
      ],
      "metadata": {
        "colab": {
          "base_uri": "https://localhost:8080/"
        },
        "id": "wGY0wyqoYTvQ",
        "outputId": "46988357-e70e-45fc-9ec3-e772fa566135"
      },
      "execution_count": 10,
      "outputs": [
        {
          "output_type": "stream",
          "name": "stdout",
          "text": [
            "Squared list: [1, 4, 9, 16, 25]\n"
          ]
        }
      ]
    },
    {
      "cell_type": "code",
      "source": [
        "# 4. Write a Python function that checks if a given number is prime or not from 1 to 200\n",
        "def is_prime(n):\n",
        "    if n <= 1:\n",
        "        return False\n",
        "    for i in range(2, int(n**0.5) + 1):\n",
        "        if n % i == 0:\n",
        "            return False\n",
        "    return True\n",
        "primes = [num for num in range(1, 201) if is_prime(num)]\n",
        "print(\"Prime numbers from 1 to 200:\")\n",
        "print(primes)\n"
      ],
      "metadata": {
        "colab": {
          "base_uri": "https://localhost:8080/"
        },
        "id": "sRFJCuPgY2G5",
        "outputId": "374e49c0-da76-4d74-a655-e087af6509dc"
      },
      "execution_count": 11,
      "outputs": [
        {
          "output_type": "stream",
          "name": "stdout",
          "text": [
            "Prime numbers from 1 to 200:\n",
            "[2, 3, 5, 7, 11, 13, 17, 19, 23, 29, 31, 37, 41, 43, 47, 53, 59, 61, 67, 71, 73, 79, 83, 89, 97, 101, 103, 107, 109, 113, 127, 131, 137, 139, 149, 151, 157, 163, 167, 173, 179, 181, 191, 193, 197, 199]\n"
          ]
        }
      ]
    },
    {
      "cell_type": "code",
      "source": [
        "# 5. Create an iterator class in Python that generates the Fibonacci sequence up to a specified number of terms.\n",
        "class FibonacciIterator:\n",
        "    def __init__(self, n_terms):\n",
        "        self.n_terms = n_terms\n",
        "        self.count = 0\n",
        "        self.a, self.b = 0, 1\n",
        "\n",
        "    def __iter__(self):\n",
        "        return self\n",
        "\n",
        "    def __next__(self):\n",
        "        if self.count < self.n_terms:\n",
        "            value = self.a\n",
        "            self.a, self.b = self.b, self.a + self.b\n",
        "            self.count += 1\n",
        "            return value\n",
        "        else:\n",
        "            raise StopIteration\n",
        "\n",
        "\n",
        "fib = FibonacciIterator(10)\n",
        "for num in fib:\n",
        "    print(num, end=\" \")\n"
      ],
      "metadata": {
        "colab": {
          "base_uri": "https://localhost:8080/"
        },
        "id": "xJshql7MZNz5",
        "outputId": "7ac61277-965c-4dd8-acd2-e84628c16e05"
      },
      "execution_count": 12,
      "outputs": [
        {
          "output_type": "stream",
          "name": "stdout",
          "text": [
            "0 1 1 2 3 5 8 13 21 34 "
          ]
        }
      ]
    },
    {
      "cell_type": "code",
      "source": [
        "# 6.  Write a generator function in Python that yields the powers of 2 up to a given exponent.\n",
        "def powers_of_two(max_exponent):\n",
        "    for i in range(max_exponent + 1):\n",
        "        yield 2 ** i\n",
        "\n",
        "for value in powers_of_two(10):\n",
        "    print(value, end=\" \")\n"
      ],
      "metadata": {
        "colab": {
          "base_uri": "https://localhost:8080/"
        },
        "id": "XT_tL1giZ36u",
        "outputId": "c02cba3c-a6bf-496d-8343-0dd64a5c69ef"
      },
      "execution_count": 13,
      "outputs": [
        {
          "output_type": "stream",
          "name": "stdout",
          "text": [
            "1 2 4 8 16 32 64 128 256 512 1024 "
          ]
        }
      ]
    },
    {
      "cell_type": "code",
      "source": [
        "# 7.  Implement a generator function that reads a file line by line and yields each line as a string.\n",
        "import os\n",
        "\n",
        "def read_lines_generator(file_path):\n",
        "    try:\n",
        "        with open(file_path, 'r') as f:\n",
        "            for line in f:\n",
        "                yield line.rstrip('\\n')\n",
        "    except FileNotFoundError:\n",
        "        print(f\"Error: The file '{file_path}' was not found.\")\n",
        "    except Exception as e:\n",
        "        print(f\"An error occurred: {e}\")\n",
        "\n",
        "file_name = \"example.txt\"\n",
        "lines_to_write = [\n",
        "    \"First line of the file.\\n\",\n",
        "    \"Here comes the second line.\\n\",\n",
        "    \"And this is the final, third line.\\n\"\n",
        "]\n",
        "\n",
        "with open(file_name, 'w') as f:\n",
        "    f.writelines(lines_to_write)\n",
        "\n",
        "print(f\"Reading from '{file_name}' using the generator:\")\n",
        "line_reader = read_lines_generator(file_name)\n",
        "\n",
        "for line in line_reader:\n",
        "    print(f'  - \"{line}\"')\n",
        "\n",
        "os.remove(file_name)\n"
      ],
      "metadata": {
        "colab": {
          "base_uri": "https://localhost:8080/"
        },
        "id": "6tmT4cKvaHqB",
        "outputId": "9ec16570-cbcf-43a4-9021-53a81bfe1c3a"
      },
      "execution_count": 17,
      "outputs": [
        {
          "output_type": "stream",
          "name": "stdout",
          "text": [
            "Reading from 'example.txt' using the generator:\n",
            "  - \"First line of the file.\"\n",
            "  - \"Here comes the second line.\"\n",
            "  - \"And this is the final, third line.\"\n"
          ]
        }
      ]
    },
    {
      "cell_type": "code",
      "source": [
        "# 8. Use a lambda function in Python to sort a list of tuples based on the second element of each tuple\n",
        "\n",
        "data = [(1, 5), (2, 2), (3, 8), (4, 1)]\n",
        "sorted_data = sorted(data, key=lambda x: x[1])\n",
        "\n",
        "print(\"Sorted list:\", sorted_data)\n"
      ],
      "metadata": {
        "colab": {
          "base_uri": "https://localhost:8080/"
        },
        "id": "YUFr2Fq9bGAI",
        "outputId": "1a1dbb1d-aa60-4331-d180-e45a690ac779"
      },
      "execution_count": 18,
      "outputs": [
        {
          "output_type": "stream",
          "name": "stdout",
          "text": [
            "Sorted list: [(4, 1), (2, 2), (1, 5), (3, 8)]\n"
          ]
        }
      ]
    },
    {
      "cell_type": "code",
      "source": [
        "# 9. Write a Python program that uses `map()` to convert a list of temperatures from Celsius to Fahrenheit\n",
        "\n",
        "celsius_temps = [0, 20, 37, 100]\n",
        "\n",
        "def celsius_to_fahrenheit(c):\n",
        "    return (c * 9/5) + 32\n",
        "fahrenheit_temps = list(map(celsius_to_fahrenheit, celsius_temps))\n",
        "\n",
        "print(\"Temperatures in Fahrenheit:\", fahrenheit_temps)\n"
      ],
      "metadata": {
        "colab": {
          "base_uri": "https://localhost:8080/"
        },
        "id": "NLKTYwmCbVg7",
        "outputId": "c111c3e8-35a1-49dd-9802-02f81b8faa68"
      },
      "execution_count": 19,
      "outputs": [
        {
          "output_type": "stream",
          "name": "stdout",
          "text": [
            "Temperatures in Fahrenheit: [32.0, 68.0, 98.6, 212.0]\n"
          ]
        }
      ]
    },
    {
      "cell_type": "code",
      "source": [
        "# 10. Create a Python program that uses `filter()` to remove all the vowels from a given string.\n",
        "\n",
        "text = \"Hello World\"\n",
        "def is_not_vowel(char):\n",
        "    return char.lower() not in 'aeiou'\n",
        "\n",
        "filtered_text = ''.join(filter(is_not_vowel, text))\n",
        "\n",
        "print(\"String without vowels:\", filtered_text)\n"
      ],
      "metadata": {
        "colab": {
          "base_uri": "https://localhost:8080/"
        },
        "id": "x2F3Hes7bna2",
        "outputId": "24e81a15-5f95-487d-cd22-f1d1bb1ea311"
      },
      "execution_count": 20,
      "outputs": [
        {
          "output_type": "stream",
          "name": "stdout",
          "text": [
            "String without vowels: Hll Wrld\n"
          ]
        }
      ]
    },
    {
      "cell_type": "code",
      "source": [
        "# 11.  Imagine an accounting routine used in a book shop. It works on a list with sublists, which look like this:\n",
        "\n",
        "orders = [\n",
        "    [34587, \"Learning Python, Mark Lutz\", 4, 40.95],\n",
        "    [98762, \"Programming Python, Mark Lutz\", 5, 56.80],\n",
        "    [77226, \"Head First Python, Paul Barry\", 3, 32.95],\n",
        "    [88112, \"Einführung in Python3, Bernd Klein\", 3, 24.99]\n",
        "]\n",
        "\n",
        "for order in orders:\n",
        "    order_number, book, quantity, price = order\n",
        "    total = quantity * price\n",
        "    print(f\"Order {order_number}: {book} -> Total: ${total:.2f}\")\n"
      ],
      "metadata": {
        "colab": {
          "base_uri": "https://localhost:8080/"
        },
        "id": "wApQma1Ab46F",
        "outputId": "1ef9f173-df93-48ae-a2f8-2a631e66d346"
      },
      "execution_count": 21,
      "outputs": [
        {
          "output_type": "stream",
          "name": "stdout",
          "text": [
            "Order 34587: Learning Python, Mark Lutz -> Total: $163.80\n",
            "Order 98762: Programming Python, Mark Lutz -> Total: $284.00\n",
            "Order 77226: Head First Python, Paul Barry -> Total: $98.85\n",
            "Order 88112: Einführung in Python3, Bernd Klein -> Total: $74.97\n"
          ]
        }
      ]
    }
  ]
}
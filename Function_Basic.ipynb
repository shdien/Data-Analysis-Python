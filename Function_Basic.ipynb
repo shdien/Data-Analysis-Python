{
  "nbformat": 4,
  "nbformat_minor": 0,
  "metadata": {
    "colab": {
      "provenance": []
    },
    "kernelspec": {
      "name": "python3",
      "display_name": "Python 3"
    },
    "language_info": {
      "name": "python"
    }
  },
  "cells": [
    {
      "cell_type": "markdown",
      "source": [
        "#  1. What is Python, and why is it popular?\n",
        "Python is a high-level, interpreted programming language known for its simplicity and readability.\n",
        "And python is very much popular for his:-\n",
        "- Large standard library\n",
        "- versality\n",
        "- easy to learn\n",
        "- dynamic typing\n",
        "- community services\n",
        "\n",
        "# 2. What is an interpreter in Python?\n",
        "An interpreter in Python is the program that reads and executes Python code line by line, translating it into machine-readable instructions. Unlike compiled languages (like C or Java), which are converted into machine code before execution, Python uses an interpreter to process code dynamically.\n",
        "\n",
        "# 3. What are pre-defined keywords in Python?\n",
        "Pre-defined keywords in Python are reserved words that have special meaning in the language. These words are part of Python’s syntax and cannot be used for variable names or identifiers because they serve specific functions in code execution.\n",
        "\n",
        "Examples include:\n",
        "\n",
        "if, else, elif - conditional logic\n",
        "\n",
        "for, while - loops\n",
        "\n",
        "def, class - defining functions and classes\n",
        "\n",
        "True, False, None - boolean and null values\n",
        "\n",
        "# 4. Can keywords be used as variable names?\n",
        "Keywords are reserved in Python, so they cannot be used as variable names. If you try, Python will throw a syntax error.\n",
        "\n",
        "# 5. What is mutability in Python?\n",
        "Mutability refers to an object’s ability to be changed after it is created. In Python, some data types are mutable, meaning their contents can be altered, while others are immutable, meaning they cannot be changed once defined.\n",
        "\n",
        "Mutable types -> List, Dictionary, Set, bytearray\n",
        "\n",
        "# 6. Why are lists mutable, but tuples are immutable?\n",
        "- Lists:\n",
        "Lists are designed to be dynamic collections. we can use add, remove, change element after creation. This makes them useful for tasks where data is expected to change.\n",
        "\n",
        "- Tuples:\n",
        "Tuples are designed to be fixed collections, once created their content can't be changed. This immutability makes them safe usable as dictionary keys or in sets.\n",
        "\n",
        "# 7. What is the difference between “==” and “is” operators in Python?\n",
        "- == operator:\n",
        "\n",
        "     Checks whether the values of two objects are the same. Does not care if they are stored in the same memory location.\n",
        "- is operator:\n",
        "\n",
        "     Checks whether two variables point to the same object in memory. Even if values are equal, is can be False if they are different objects.\n",
        "\n",
        "# 8. What are logical operators in Python?\n",
        "In Python, logical operators are used to combine conditional statements and evaluate expressions to a True or False value. They are fundamental for controlling the flow of a program in if statements and while loops. The three logical operators are and, or, and not.\n",
        "\n",
        "- AND operator:\n",
        "Returns True if both conditions are true.Returns False if any one is false.\n",
        "- OR operator:\n",
        "Returns True if at least one condition is true.Returns False only if all are false.\n",
        "- NOT operator:\n",
        "Reverses the result. not True → False, not False → True.\n",
        "\n",
        "# 9. What is type casting in Python?\n",
        "Type casting means converting one data type into another. In Python, this is usually done using built-in functions.\n",
        "\n",
        "# 10. What is the difference between implicit and explicit type casting?\n",
        "- Implicit:\n",
        "\n",
        "   Done automatically by Python. Converts smaller data types into larger data types to avoid data loss.\n",
        "- Explicit:\n",
        "\n",
        "   Done manually by the programmer using functions. You control the conversion.\n",
        "\n",
        "# 11. What is the purpose of conditional statements in Python?\n",
        "Conditional statements are used to make decisions in a program.\n",
        "They allow the program to execute different blocks of code depending on whether a condition is True or False. this conditional statement is very important in Python for:\n",
        "\n",
        "(1). They give control over the flow of a program.\n",
        "\n",
        "(2). Without conditionals, a program would just run line by line without logic.\n",
        "\n",
        "(3). They help in solving real-world problems where decisions are needed.\n",
        "\n",
        "# 12. How does the elif statement work?\n",
        "elif stands for else if. It is used when you have multiple conditions to check. Python checks conditions from top to bottom and executes only the first True block.\n",
        "\n",
        "How it works:\n",
        "\n",
        "First if marks >= 90 → False\n",
        "\n",
        "Then elif marks >= 75 → False\n",
        "\n",
        "Then elif marks >= 50 → True → Executes \"Grade C\"\n",
        "\n",
        "Python stops checking further after the first match.\n",
        "\n",
        "# 13. What is the difference between for and while loops?\n",
        "Both for and while loops are used for repeating a block of code, but they are used in different situations.\n",
        "\n",
        "- FOR loop:\n",
        "\n",
        "  Used when you know beforehand how many times you want to execute the loop. Iterates over a sequence like a list, tuple, string, or range.\n",
        "- WHILE loop:\n",
        "\n",
        "  Used when you don’t know beforehand how many times the loop will run.Loops until a condition becomes False.\n",
        "\n",
        "# 14. Describe a scenario where a while loop is more suitable than a for loop.?\n",
        "- Problem: You are creating a password verification system where the user has to enter the correct password.\n",
        "\n",
        "correct_password = \"Python123\"\n",
        "\n",
        "entered_password = \"\"\n",
        "\n",
        "while entered_password != correct_password:\n",
        "\n",
        "    entered_password = input(\"Enter your password: \")\n",
        "\n",
        "    if entered_password == correct_password:\n",
        "\n",
        "        print(\"Access granted!\")\n",
        "\n",
        "    else:\n",
        "    \n",
        "        print(\"Incorrect password. Try again.\")\n"
      ],
      "metadata": {
        "id": "Y1GzbybM43zH"
      }
    },
    {
      "cell_type": "code",
      "source": [
        "# 1. Write a Python program to print \"Hello, World!\"\n",
        "print(\"Hello, World!\")"
      ],
      "metadata": {
        "colab": {
          "base_uri": "https://localhost:8080/"
        },
        "id": "gj5aShy7CDKD",
        "outputId": "049252d5-0b92-4358-e6d3-3fa7abc5d8f2"
      },
      "execution_count": 2,
      "outputs": [
        {
          "output_type": "stream",
          "name": "stdout",
          "text": [
            "Hello, World!\n"
          ]
        }
      ]
    },
    {
      "cell_type": "code",
      "source": [
        "# 2. Write a Python program that displays your name and age\n",
        "name = (\"Debjit Nandi\")\n",
        "age = 24\n",
        "print(f\"My name is {name} and my age is {age}\")"
      ],
      "metadata": {
        "colab": {
          "base_uri": "https://localhost:8080/"
        },
        "id": "kQqeVi2tCI3W",
        "outputId": "03b4a94e-c5cd-48d2-92da-498f944d3e0b"
      },
      "execution_count": 3,
      "outputs": [
        {
          "output_type": "stream",
          "name": "stdout",
          "text": [
            "My name is Debjit Nandi and my age is 24\n"
          ]
        }
      ]
    },
    {
      "cell_type": "code",
      "source": [
        "# 3. Write code to print all the pre-defined keywords in Python using the keyword library?\n",
        "import keyword\n",
        "print(keyword.kwlist)"
      ],
      "metadata": {
        "colab": {
          "base_uri": "https://localhost:8080/"
        },
        "id": "NIutVQWZCiiF",
        "outputId": "0833c05e-3ef1-489d-f2f7-4297dd10ca93"
      },
      "execution_count": 4,
      "outputs": [
        {
          "output_type": "stream",
          "name": "stdout",
          "text": [
            "['False', 'None', 'True', 'and', 'as', 'assert', 'async', 'await', 'break', 'class', 'continue', 'def', 'del', 'elif', 'else', 'except', 'finally', 'for', 'from', 'global', 'if', 'import', 'in', 'is', 'lambda', 'nonlocal', 'not', 'or', 'pass', 'raise', 'return', 'try', 'while', 'with', 'yield']\n"
          ]
        }
      ]
    },
    {
      "cell_type": "code",
      "source": [
        "# 4. Write a program that checks if a given word is a Python keyword.\n",
        "import keyword\n",
        "word = input(\"enter a word: \")\n",
        "if keyword.iskeyword(word):\n",
        "  print(f\"{word} is a python keyword\")\n",
        "else:\n",
        "  print(f\"{word} is not a python keyword\")"
      ],
      "metadata": {
        "colab": {
          "base_uri": "https://localhost:8080/"
        },
        "id": "NjUgE8P_C5WA",
        "outputId": "44ea2912-56aa-40cd-9f8b-6bbb8d27ed68"
      },
      "execution_count": 6,
      "outputs": [
        {
          "output_type": "stream",
          "name": "stdout",
          "text": [
            "enter a word: num\n",
            "num is not a python keyword\n"
          ]
        }
      ]
    },
    {
      "cell_type": "code",
      "source": [
        "# 5. Create a list and tuple in Python, and demonstrate how attempting to change an element works differently for each.\n",
        "# Creating a list (mutable)\n",
        "my_list = [10, 20, 30]\n",
        "print(\"Original list:\", my_list)\n",
        "\n",
        "# Changing an element in the list\n",
        "my_list[1] = 99\n",
        "print(\"Modified list:\", my_list)\n",
        "\n",
        "# Creating a tuple (immutable)\n",
        "my_tuple = (10, 20, 30)\n",
        "print(\"Original tuple:\", my_tuple)\n",
        "\n",
        "# Attempting to change an element in the tuple\n",
        "try:\n",
        "    my_tuple[1] = 99\n",
        "except TypeError as e:\n",
        "    print(\"Error when modifying tuple:\", e)\n"
      ],
      "metadata": {
        "colab": {
          "base_uri": "https://localhost:8080/"
        },
        "id": "y2sOgpfbDz5-",
        "outputId": "d3dba8b3-96d9-48e6-af56-56e0cc9d83ca"
      },
      "execution_count": 7,
      "outputs": [
        {
          "output_type": "stream",
          "name": "stdout",
          "text": [
            "Original list: [10, 20, 30]\n",
            "Modified list: [10, 99, 30]\n",
            "Original tuple: (10, 20, 30)\n",
            "Error when modifying tuple: 'tuple' object does not support item assignment\n"
          ]
        }
      ]
    },
    {
      "cell_type": "code",
      "source": [
        "# 6.  Write a function to demonstrate the behavior of mutable and immutable arguments.\n",
        "# Function to show mutable vs immutable behavior\n",
        "def change(list_arg, number_arg):\n",
        "    list_arg.append(100)   # mutable change\n",
        "    number_arg += 100      # immutable change\n",
        "    print(\"Inside function:\", list_arg, number_arg)\n",
        "\n",
        "# Variables\n",
        "my_list = [1, 2, 3]  # mutable\n",
        "my_number = 50        # immutable\n",
        "\n",
        "print(\"Before:\", my_list, my_number)\n",
        "\n",
        "change(my_list, my_number)\n",
        "\n",
        "print(\"After:\", my_list, my_number)\n",
        "\n"
      ],
      "metadata": {
        "colab": {
          "base_uri": "https://localhost:8080/"
        },
        "id": "0vk_tBCwEf5T",
        "outputId": "7c0f64f5-33de-42cc-d2bf-8bd8924f1bd1"
      },
      "execution_count": 9,
      "outputs": [
        {
          "output_type": "stream",
          "name": "stdout",
          "text": [
            "Before: [1, 2, 3] 50\n",
            "Inside function: [1, 2, 3, 100] 150\n",
            "After: [1, 2, 3, 100] 50\n"
          ]
        }
      ]
    },
    {
      "cell_type": "code",
      "source": [
        "# 7. Write a program that performs basic arithmetic operations on two user-input numbers.\n",
        "a = 20\n",
        "b = 10\n",
        "print(a+b)\n",
        "print(a-b)\n",
        "print(a*b)\n",
        "print(a/b)"
      ],
      "metadata": {
        "colab": {
          "base_uri": "https://localhost:8080/"
        },
        "id": "xzy1gRn8F-bt",
        "outputId": "549f18e2-233a-416b-a781-ba5498948375"
      },
      "execution_count": 10,
      "outputs": [
        {
          "output_type": "stream",
          "name": "stdout",
          "text": [
            "30\n",
            "10\n",
            "200\n",
            "2.0\n"
          ]
        }
      ]
    },
    {
      "cell_type": "code",
      "source": [
        "# 8. Write a program to demonstrate the use of logical operators.\n",
        "# Get user input\n",
        "age = int(input(\"Enter your age: \"))\n",
        "permission = input(\"Do you have permission? (yes/no): \")\n",
        "\n",
        "# Using 'and' operator\n",
        "if age >= 18 and permission:\n",
        "    print(\"You can enter the club.\")\n",
        "else:\n",
        "    print(\"You cannot enter the club.\")\n",
        "\n",
        "# Using 'or' operator\n",
        "if age < 18 or not permission:\n",
        "    print(\"You are restricted from entry.\")\n",
        "\n",
        "# Using 'not' operator\n",
        "if not permission:\n",
        "    print(\"Permission is required to enter.\")\n"
      ],
      "metadata": {
        "colab": {
          "base_uri": "https://localhost:8080/"
        },
        "id": "R4NFkoEeGZaL",
        "outputId": "bd687dc1-d7e2-459a-c1b1-b85badf89bda"
      },
      "execution_count": 11,
      "outputs": [
        {
          "output_type": "stream",
          "name": "stdout",
          "text": [
            "Enter your age: 24\n",
            "Do you have permission? (yes/no): yes\n",
            "You can enter the club.\n"
          ]
        }
      ]
    },
    {
      "cell_type": "code",
      "source": [
        "# 9. Write a Python program to convert user input from string to integer, float, and boolean types.\n",
        "\n",
        "\n",
        "user_input = input(\"Enter a number: \")\n",
        "\n",
        "as_integer = int(user_input)\n",
        "as_float = float(user_input)\n",
        "as_boolean = bool(user_input)\n",
        "\n",
        "print(\"As integer:\", as_integer)\n",
        "print(\"As float:\", as_float)\n",
        "print(\"As boolean:\", as_boolean)\n",
        "\n"
      ],
      "metadata": {
        "colab": {
          "base_uri": "https://localhost:8080/"
        },
        "id": "OQzMAUA9Hbys",
        "outputId": "689ba7e4-0396-4751-9744-427b9697cd7d"
      },
      "execution_count": 12,
      "outputs": [
        {
          "output_type": "stream",
          "name": "stdout",
          "text": [
            "Enter a number: 10\n",
            "As integer: 10\n",
            "As float: 10.0\n",
            "As boolean: True\n"
          ]
        }
      ]
    },
    {
      "cell_type": "code",
      "source": [
        "# 10. Write code to demonstrate type casting with list elements.\n",
        "\n",
        "my_list = [\"1\", \"2\", \"3\", \"4\"]\n",
        "print(\"Original list (strings):\", my_list)\n",
        "\n",
        "\n",
        "int_list = []\n",
        "\n",
        "\n",
        "for item in my_list:\n",
        "    int_list.append(int(item))\n",
        "print(\"Converted list (integers):\", int_list)\n",
        "\n",
        "\n",
        "float_list = []\n",
        "for item in my_list:\n",
        "    float_list.append(float(item))\n",
        "print(\"Converted list (floats):\", float_list)\n"
      ],
      "metadata": {
        "colab": {
          "base_uri": "https://localhost:8080/"
        },
        "id": "VB50G_r1Ij3e",
        "outputId": "85de051c-4240-489c-a56c-03cc6d13df9d"
      },
      "execution_count": 13,
      "outputs": [
        {
          "output_type": "stream",
          "name": "stdout",
          "text": [
            "Original list (strings): ['1', '2', '3', '4']\n",
            "Converted list (integers): [1, 2, 3, 4]\n",
            "Converted list (floats): [1.0, 2.0, 3.0, 4.0]\n"
          ]
        }
      ]
    },
    {
      "cell_type": "code",
      "source": [
        "# 11. Write a program that checks if a number is positive, negative, or zero.\n",
        "\n",
        "num = float(input(\"Enter a number: \"))\n",
        "if num > 0:\n",
        "    print(\"The number is positive.\")\n",
        "elif num < 0:\n",
        "    print(\"The number is negative.\")\n",
        "else:\n",
        "    print(\"The number is zero.\")\n"
      ],
      "metadata": {
        "colab": {
          "base_uri": "https://localhost:8080/"
        },
        "id": "QwshvyusV4te",
        "outputId": "98082b70-f77a-4347-97ac-6b5771448124"
      },
      "execution_count": 14,
      "outputs": [
        {
          "output_type": "stream",
          "name": "stdout",
          "text": [
            "Enter a number: 152\n",
            "The number is positive.\n"
          ]
        }
      ]
    },
    {
      "cell_type": "code",
      "source": [
        "# 12. Write a for loop to print numbers from 1 to 10.\n",
        "for i in range(1, 11):\n",
        "    print(i)\n"
      ],
      "metadata": {
        "colab": {
          "base_uri": "https://localhost:8080/"
        },
        "id": "7TrA3athWJVr",
        "outputId": "b2eee933-6125-4c9c-8153-6e42759fdd27"
      },
      "execution_count": 15,
      "outputs": [
        {
          "output_type": "stream",
          "name": "stdout",
          "text": [
            "1\n",
            "2\n",
            "3\n",
            "4\n",
            "5\n",
            "6\n",
            "7\n",
            "8\n",
            "9\n",
            "10\n"
          ]
        }
      ]
    },
    {
      "cell_type": "code",
      "source": [
        "# 13. Write a Python program to find the sum of all even numbers between 1 and 50.\n",
        "\n",
        "total = 0\n",
        "\n",
        "for i in range(1, 51):\n",
        "    if i % 2 == 0:\n",
        "        total += i\n",
        "print(\"Sum of all even numbers from 1 to 50 is:\", total)\n"
      ],
      "metadata": {
        "colab": {
          "base_uri": "https://localhost:8080/"
        },
        "id": "IMAfRMH9WXNo",
        "outputId": "b16535ba-ed8c-473b-e743-d8e6932a3f0d"
      },
      "execution_count": 16,
      "outputs": [
        {
          "output_type": "stream",
          "name": "stdout",
          "text": [
            "Sum of all even numbers from 1 to 50 is: 650\n"
          ]
        }
      ]
    },
    {
      "cell_type": "code",
      "source": [
        "# 14. Write a program to reverse a string using a while loop.\n",
        "\n",
        "string = input(\"Enter a string: \")\n",
        "\n",
        "reversed_string = \"\"\n",
        "index = len(string) - 1\n",
        "\n",
        "while index >= 0:\n",
        "    reversed_string += string[index]\n",
        "    index -= 1\n",
        "\n",
        "print(\"Reversed string:\", reversed_string)\n"
      ],
      "metadata": {
        "colab": {
          "base_uri": "https://localhost:8080/"
        },
        "id": "wwL-Ug7QWve5",
        "outputId": "db087c52-34cc-47b4-be0e-bd687658821f"
      },
      "execution_count": 17,
      "outputs": [
        {
          "output_type": "stream",
          "name": "stdout",
          "text": [
            "Enter a string: Debjit\n",
            "Reversed string: tijbeD\n"
          ]
        }
      ]
    },
    {
      "cell_type": "code",
      "source": [
        "# 15. Write a Python program to calculate the factorial of a number provided by the user using a while loop.\n",
        "\n",
        "num = int(input(\"Enter a number: \"))\n",
        "factorial = 1\n",
        "i = 1\n",
        "while i <= num:\n",
        "    factorial *= i\n",
        "    i += 1\n",
        "print(f\"The factorial of {num} is {factorial}\")\n"
      ],
      "metadata": {
        "colab": {
          "base_uri": "https://localhost:8080/"
        },
        "id": "eScnjgnLYOFq",
        "outputId": "3f4567db-d58f-47d3-88c7-d517d26da2ad"
      },
      "execution_count": 18,
      "outputs": [
        {
          "output_type": "stream",
          "name": "stdout",
          "text": [
            "Enter a number: 12\n",
            "The factorial of 12 is 479001600\n"
          ]
        }
      ]
    }
  ]
}